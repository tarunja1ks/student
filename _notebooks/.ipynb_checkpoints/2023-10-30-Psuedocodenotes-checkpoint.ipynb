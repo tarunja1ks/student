{
 "cells": [
  {
   "cell_type": "markdown",
   "metadata": {},
   "source": [
    "---\n",
    "toc: true\n",
    "comments: true\n",
    "layout: post\n",
    "title: Psuedo Code Notes\n",
    "description: The Homework For this week\n",
    "courses: { compsci: {week: 10} }\n",
    "type: hacks\n",
    "---"
   ]
  },
  {
   "cell_type": "markdown",
   "metadata": {},
   "source": []
  },
  {
   "cell_type": "markdown",
   "metadata": {},
   "source": [
    "\"Repeat\"- this is a term in collegeboard psuedo code used to act as for loops\n",
    "\n",
    "\"variable1 <- temp\"- this is an example of assigning variables with the temp variable being assigned to variable 1\n",
    "\n",
    "\"INPUT()\"- this is college board pusedo code that takes input\n",
    "\n",
    "\"RANDOM(a, b)\"- this returns a random number between 1 and 3\n",
    "\n",
    "Conditional Operators:\n",
    "    \"or\"- this says if the first statement or second statemnt is true the whole expression is true\n",
    "    \"and\"- this says if both statements are true in the expression the whole expression is true\n",
    "    \"not\"- this makes the statement the opposite of what is is for example False becomes True and reverse applies\n",
    "    \n",
    "Lists:\n",
    "    Example: a1 <- [value1,value2,value3]\n",
    "    This assigns value1-3 to a list called a1\n",
    "        - INSERT(aList, i, value) this inserts a value at index i into the list aList\n",
    "        - APPEND(aList, value) this adds a value at the end of the list or after the last index\n",
    "        - REMOVE(aList, i) this removes the value at index i from the list\n",
    "        - LENGTH(aList) this finds the length of the list\n",
    "\n",
    "Functions:\n",
    "    PROCEDURE procName(parameter1,\n",
    "     parameter2, ...)\n",
    "    {\n",
    "     <block of statements>\n",
    "     RETURN(expression)\n",
    "    }\n",
    "\n",
    "    This procedure psuedo code by college board is similar to a python function with paramter 1 and 2 being normal paramters and the RETURN(expression) simply outtputing or giving back a value. \n",
    "\n"
   ]
  }
 ],
 "metadata": {
  "kernelspec": {
   "display_name": "Python 3 (ipykernel)",
   "language": "python",
   "name": "python3"
  },
  "language_info": {
   "codemirror_mode": {
    "name": "ipython",
    "version": 3
   },
   "file_extension": ".py",
   "mimetype": "text/x-python",
   "name": "python",
   "nbconvert_exporter": "python",
   "pygments_lexer": "ipython3",
   "version": "3.10.6"
  }
 },
 "nbformat": 4,
 "nbformat_minor": 2
}
