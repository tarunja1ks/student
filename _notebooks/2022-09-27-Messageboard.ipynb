{
 "cells": [
  {
   "cell_type": "markdown",
   "metadata": {},
   "source": [
    "---\n",
    "comments: true\n",
    "layout: post\n",
    "title: Message Board\n",
    "description: Grab Calculator Code and place in IPYNB\n",
    "type: hacks\n",
    "courses: { compsci: {week: 5} }\n",
    "---"
   ]
  },
  {
   "cell_type": "code",
   "execution_count": 4,
   "metadata": {
    "vscode": {
     "languageId": "html"
    }
   },
   "outputs": [
    {
     "ename": "IndentationError",
     "evalue": "unindent does not match any outer indentation level (<tokenize>, line 41)",
     "output_type": "error",
     "traceback": [
      "\u001b[0;36m  File \u001b[0;32m<tokenize>:41\u001b[0;36m\u001b[0m\n\u001b[0;31m    }\u001b[0m\n\u001b[0m    ^\u001b[0m\n\u001b[0;31mIndentationError\u001b[0m\u001b[0;31m:\u001b[0m unindent does not match any outer indentation level\n"
     ]
    }
   ],
   "source": [
    "<html lang=\"en\">\n",
    "<head>\n",
    "  <meta charset=\"UTF-8\">\n",
    "  <meta name=\"viewport\" content=\"width=device-width, initial-scale=1.0\">\n",
    "  <title>Message Board</title>\n",
    "  <style>\n",
    "    body {\n",
    "      font-family: Arial, sans-serif;\n",
    "    }\n",
    "    #message-input {\n",
    "      width: 80%;\n",
    "      padding: 10px;\n",
    "    }\n",
    "    #message-container {\n",
    "      margin-top: 20px;\n",
    "    }\n",
    "  </style>\n",
    "</head>\n",
    "<body>\n",
    "  <h1>Message Board</h1>\n",
    "  <textarea id=\"message-input\" placeholder=\"Enter your message\"></textarea>\n",
    "  <button onclick=\"addMessage()\">Add Message</button>\n",
    "  <button onclick=\"updatePage()\">Update Page</button>\n",
    "\n",
    "  <div id=\"message-container\">\n",
    "    <h2>Messages:</h2>\n",
    "    <ul id=\"messages\"></ul>\n",
    "  </div>\n",
    "\n",
    "  <script>\n",
    "    function addMessage() {\n",
    "      const messageInput = document.getElementById('message-input');\n",
    "      const message = messageInput.value;\n",
    "\n",
    "      if (message) {\n",
    "        const messagesList = document.getElementById('messages');\n",
    "        const messageItem = document.createElement('li');\n",
    "        messageItem.textContent = message;\n",
    "        messagesList.appendChild(messageItem);\n",
    "        messageInput.value = '';\n",
    "      }\n",
    "    }\n",
    "\n",
    "    function updatePage() {\n",
    "      // Perform any update actions you need here\n",
    "      alert('Page updated!');\n",
    "    }\n",
    "  </script>\n",
    "</body>\n",
    "</html>\n"
   ]
  }
 ],
 "metadata": {
  "kernelspec": {
   "display_name": "Python 3",
   "language": "python",
   "name": "python3"
  },
  "language_info": {
   "codemirror_mode": {
    "name": "ipython",
    "version": 3
   },
   "file_extension": ".py",
   "mimetype": "text/x-python",
   "name": "python",
   "nbconvert_exporter": "python",
   "pygments_lexer": "ipython3",
   "version": "3.11.4"
  },
  "orig_nbformat": 4
 },
 "nbformat": 4,
 "nbformat_minor": 2
}
