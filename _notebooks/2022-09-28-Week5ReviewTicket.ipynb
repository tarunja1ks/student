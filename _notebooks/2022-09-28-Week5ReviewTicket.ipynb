{
 "cells": [
  {
   "cell_type": "markdown",
   "metadata": {},
   "source": [
    "---\n",
    "layout: post\n",
    "title: Week 5 Review Ticket\n",
    "description: Review on my accomplishment on week 5 hacks and the feedback fromm my peer grader\n",
    "comments: false\n",
    "courses: {compsci: {'week': 5}}\n",
    "type: tangibles\n",
    "comments: True\n",
    "---\n"
   ]
  },
  {
   "cell_type": "markdown",
   "metadata": {},
   "source": [
    "## Feedback by Nitin\n",
    "\n",
    "    - 4/4 Very Good. I think you understood what were doing and went above and beyond. The notepad was a good accesory, and notable feature was the autosaving.\n",
    "\n",
    "## Review by Tarun\n",
    "    - Completed all the Hacks\n",
    "    - Made a notepad using javascript and HTML and other elements of each language"
   ]
  }
 ],
 "metadata": {
  "language_info": {
   "name": "python"
  },
  "orig_nbformat": 4
 },
 "nbformat": 4,
 "nbformat_minor": 2
}
