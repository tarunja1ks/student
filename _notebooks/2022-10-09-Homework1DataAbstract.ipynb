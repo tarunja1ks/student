{
 "cells": [
  {
   "cell_type": "markdown",
   "metadata": {},
   "source": [
    "---\n",
    "toc: true\n",
    "comments: false\n",
    "layout: post\n",
    "title: Homework 1 Data Abstraction\n",
    "description: Homework for the first teamteach\n",
    "type: hacks\n",
    "courses: { compsci: {week: 7} }\n",
    "---"
   ]
  },
  {
   "cell_type": "markdown",
   "metadata": {},
   "source": [
    "\n",
    "Data Type Practice\n",
    "Question 1: Integer Operation\n",
    "Declare two integer variables, num1Int and num2Int, and assign them values of your choice.\n",
    "Calculate the sum of num1Int and num2Int\n",
    "Print the sum\n",
    "Question 2: Float Operation\n",
    "Declare two float variables, float1 and float2, and assign them values of your choice.\n",
    "Calculate the quotient of ‘float1’ and ‘float2’\n",
    "Print the quotient\n",
    "Question 3: Format Manipulation\n",
    "Write a message that equals a sentence with two placeholder variables\n",
    "Write two strings with two placeholder variables to insert into the message\n",
    "Print that message"
   ]
  },
  {
   "cell_type": "code",
   "execution_count": 9,
   "metadata": {},
   "outputs": [
    {
     "name": "stdout",
     "output_type": "stream",
     "text": [
      "The sum of the float 3 and2 is 5\n",
      "The sum of the float 3.1 and2.5 is 5.6\n",
      "I like cats  and dogs.\n"
     ]
    }
   ],
   "source": [
    "#Question 1\n",
    "def sumofint(num1Int,num2Int):\n",
    "    return num1Int+num2Int\n",
    "num1int=3\n",
    "num2int=2\n",
    "print(\"The sum of the float \"+str(num1int)+\" and\"+ str(num2int)+\" is \"+str(sumofint(num1int,num2int)))\n",
    "\n",
    "#Question 2\n",
    "def sumoffloat(num1float,num2float):\n",
    "    return num1float+num2float\n",
    "num1float=3.1\n",
    "num2float=2.5\n",
    "print(\"The sum of the float \"+str(num1float)+\" and \"+str(num2float)+\" is \"+str(sumoffloat(num1float,num2float)))\n",
    "\n",
    "#Question 3\n",
    "# string1=\"Dogs\"\n",
    "string1=input(\"What is one thing you like?\")\n",
    "# string2=\"Cats\"\n",
    "string2=input(\"What is another thing you like?\")\n",
    "message=\"I like \"+string1+\" and \"+string2+\".\"\n",
    "print(message)\n"
   ]
  }
 ],
 "metadata": {
  "kernelspec": {
   "display_name": "Python 3",
   "language": "python",
   "name": "python3"
  },
  "language_info": {
   "codemirror_mode": {
    "name": "ipython",
    "version": 3
   },
   "file_extension": ".py",
   "mimetype": "text/x-python",
   "name": "python",
   "nbconvert_exporter": "python",
   "pygments_lexer": "ipython3",
   "version": "3.11.4"
  },
  "orig_nbformat": 4
 },
 "nbformat": 4,
 "nbformat_minor": 2
}
