{
 "cells": [
  {
   "cell_type": "markdown",
   "metadata": {},
   "source": [
    "---\n",
    "toc: true\n",
    "comments: false\n",
    "layout: post\n",
    "title: Review of Work 10 compeleted\n",
    "description: Review of Week 10 and Plans for Week 10\n",
    "type: tangibles\n",
    "courses: { compsci: {week: 10} }\n",
    "---"
   ]
  },
  {
   "cell_type": "markdown",
   "metadata": {},
   "source": [
    "## Passion\n",
    "### Completed By Me\n",
    "    - With help of Hayden Chen, was able to integrate the front and backend using docker\n",
    "    - Created the AI that is able to classify the cipher\n",
    "    - Worked on the Frontend a little bit gaining experience when integrating a textbox and submit with the backend ciphers\n",
    "    - Completed Some of the COllege Board Questions\n",
    "    "
   ]
  },
  {
   "cell_type": "markdown",
   "metadata": {},
   "source": [
    "### Issues\n",
    "    - Need the ciphers to work even with characters other than alphabet such as numbers and other symbols\n",
    "    - Need to find the key when decrypting using AI by bruteforcing every key\n",
    "    - RSA algorithim is extremely slow\n",
    "    "
   ]
  },
  {
   "cell_type": "markdown",
   "metadata": {},
   "source": [
    "## Teamteach\n",
    "### Lessons\n",
    "    - ABle to complete the teamteaches and add a little bit of extra stuff raising past the 0.90\n",
    "    \n"
   ]
  },
  {
   "cell_type": "markdown",
   "metadata": {},
   "source": [
    "### College board\n",
    "    - Able to complete some of the problems and ran into some trouble with some of them"
   ]
  },
  {
   "cell_type": "markdown",
   "metadata": {},
   "source": [
    "### Blog Plans\n",
    "    - I plan to hopefully continue blogging consecutive after this week providing reviews of my compelted work in the passion project for this tri and also going back to the Teamteach homework to revise what I have completed and learned\n",
    "    - I plan to also fully finish the collegeboard review blog this week\n",
    "    "
   ]
  }
 ],
 "metadata": {
  "language_info": {
   "name": "python"
  }
 },
 "nbformat": 4,
 "nbformat_minor": 2
}
