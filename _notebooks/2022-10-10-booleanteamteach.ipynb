{
 "cells": [
  {
   "cell_type": "markdown",
   "metadata": {},
   "source": [
    "---\n",
    "toc: true\n",
    "comments: false\n",
    "layout: post\n",
    "title: Homework 3 Boolean Expression\n",
    "description: Homework for the third teamteach\n",
    "type: hacks\n",
    "courses: { compsci: {week: 8} }\n",
    "---"
   ]
  },
  {
   "cell_type": "markdown",
   "metadata": {},
   "source": [
    "Problem 1: Write a Python program that uses boolean logic to determine if a user is eligible to vote. The criteria for eligibility is that the user must be a citizen and must be 18 or older. Include comments in your code to explain each part of the program.\n",
    "\n",
    "Problem 2: A company decided to give bonus of 5% to employee if his/her year of service is more than 5 years. Ask user for their salary and year of service and print the net bonus amount.\n",
    "\n",
    "Problem 3: A school has following rules for grading system:\n",
    "a. Below 25 - F\n",
    "b. 25 to 45 - E\n",
    "c. 45 to 50 - D\n",
    "d. 50 to 60 - C\n",
    "e. 60 to 80 - B\n",
    "f. Above 80 - A\n",
    "Ask user to enter marks and print the corresponding grade."
   ]
  },
  {
   "cell_type": "code",
   "execution_count": null,
   "metadata": {},
   "outputs": [],
   "source": [
    "#1\n",
    "age=input(\"Type your age\")\n",
    "citizen=input(\"Type yes or no for if you are a citizen\")\n",
    "if(age>=18 and citizen.lower()==\"yes\"):\n",
    "    print(\"You are elgiible to vote\")\n",
    "else:\n",
    "    print(\"You are not elgiible to vote\")\n",
    "# I first took input from the user\n",
    "# I then checked in an if statement if the user's age is above 18 and if they are a citizen\n",
    "# If they are citizen I say they elligible if not I say they not elligible\n",
    "\n",
    "#2 \n",
    "current_salary=float(input(\"Type your salary\"))\n",
    "years=input(\"Type the amount of years you have serviced the company\")\n",
    "if(years>5):\n",
    "    print(current_salary*1.05, \"is your new salary\")\n",
    "else:\n",
    "    print(current_salary, \"is your salary\")\n",
    "\n",
    "#I first take input of the salary and years of service\n",
    "#If the years of service greater than five I output the new updated salary and if not I output the same salary\n",
    "#3\n",
    "current=int(input())\n",
    "if(current<25):\n",
    "    print(\"You have an F\")\n",
    "elif(current>=25 and current<45):\n",
    "    print(\"You have an D\")\n",
    "elif(current>=45 and current<60):\n",
    "    print(\"You have an C\")\n",
    "elif(current>=60 and current<80):\n",
    "    print(\"You have an B\")\n",
    "elif(current>=80):\n",
    "    print(\"You have an A\")"
   ]
  },
  {
   "cell_type": "markdown",
   "metadata": {},
   "source": [
    "# Notes\n",
    "    - Types of Comparison Operators\n",
    "        -Equal to: a = b\n",
    "        -Not equal to: a != b\n",
    "        -Greater than: a > b\n",
    "        -Less than: a < b\n",
    "        -Greater than or equal to: a >= b\n",
    "        -Less than or equal to: a <= b\n",
    "        - AND operator: Checks if both conditions true and if so then returns true otherwise false\n",
    "        - OR operator: If one is true than the whole expression is true"
   ]
  }
 ],
 "metadata": {
  "language_info": {
   "name": "python"
  },
  "orig_nbformat": 4
 },
 "nbformat": 4,
 "nbformat_minor": 2
}
