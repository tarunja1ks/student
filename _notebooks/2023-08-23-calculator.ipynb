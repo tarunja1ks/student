{
 "cells": [
  {
   "cell_type": "markdown",
   "metadata": {},
   "source": [
    "---\n",
    "toc: true\n",
    "comments: true\n",
    "layout: post\n",
    "title: Calculator Code\n",
    "description: This is a Basic Calculator Code\n",
    "type: hacks\n",
    "courses: { csse: {week: 0}, csp: {week: 1, categories: [4.A]}, csa: {week: 0} }\n",
    "categories: [C1.4]\n",
    "---\n",
    "\n"
   ]
  },
  {
   "cell_type": "code",
   "execution_count": 1,
   "metadata": {},
   "outputs": [
    {
     "name": "stdout",
     "output_type": "stream",
     "text": [
      "3\n"
     ]
    }
   ],
   "source": [
    "expression=input(\"Type the basic arithmetic expression with 2 numbers you want to solve\")\n",
    "if('+' in expression):\n",
    "    print(sum([int(j) for j in expression.split('+')]))\n",
    "elif('-' in expression):\n",
    "    n1=int(expression.split(\"-\")[0])\n",
    "    n2=int(expression.split(\"-\")[1])\n",
    "    print(n1-n2)\n",
    "elif('*' in expression):\n",
    "    n1=int(expression.split(\"*\")[0])\n",
    "    n2=int(expression.split(\"*\")[1])\n",
    "    print(n1*n2)\n",
    "elif('/' in expression):\n",
    "    n1=int(expression.split(\"/\")[0])\n",
    "    n2=int(expression.split(\"/\")[1])\n",
    "    print(n1/n2)\n",
    "else:\n",
    "    print(\"Please retry and follow the guidlines\")\n",
    "\n"
   ]
  }
 ],
 "metadata": {
  "kernelspec": {
   "display_name": "Python 3",
   "language": "python",
   "name": "python3"
  },
  "language_info": {
   "codemirror_mode": {
    "name": "ipython",
    "version": 3
   },
   "file_extension": ".py",
   "mimetype": "text/x-python",
   "name": "python",
   "nbconvert_exporter": "python",
   "pygments_lexer": "ipython3",
   "version": "3.11.4"
  },
  "orig_nbformat": 4
 },
 "nbformat": 4,
 "nbformat_minor": 2
}
