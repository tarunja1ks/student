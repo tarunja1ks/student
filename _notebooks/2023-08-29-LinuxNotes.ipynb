{
 "cells": [
  {
   "cell_type": "markdown",
   "metadata": {},
   "source": [
    "---\n",
    "toc: true\n",
    "comments: true\n",
    "layout: post\n",
    "title: Linux Notes\n",
    "description: Notes on Linux Terminal Commands\n",
    "courses: { csse: {week: 0}, csp: {week: 0, categories: [4.A]}, csa: {week: 0} }\n",
    "categories: [C1.4]\n",
    "---"
   ]
  },
  {
   "cell_type": "markdown",
   "metadata": {},
   "source": [
    "# Notes\n",
    "pwd: This prints the current directory that you are in  \n",
    "\n",
    "cd: Stands for Change Directory and if you do it by itself it changes into homedirectory. For example if you type cd student, you enter the student directory.  \n",
    "\n",
    "ls: lists out the files you can go to for unix based Operating Systems  \n",
    "\n",
    "echo: This command outputs anything you want to put. For example if you type echo \"hello\", it will output the word hello  "
   ]
  }
 ],
 "metadata": {
  "language_info": {
   "name": "python"
  },
  "orig_nbformat": 4
 },
 "nbformat": 4,
 "nbformat_minor": 2
}
