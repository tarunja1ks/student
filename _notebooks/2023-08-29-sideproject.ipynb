{
 "cells": [
  {
   "cell_type": "markdown",
   "metadata": {},
   "source": [
    "---\n",
    "toc: true\n",
    "comments: true\n",
    "layout: post\n",
    "title: Python Side Project\n",
    "description: A Python AI project that I have worked on in the past\n",
    "courses: { csse: {week: 0}, csp: {week: 0, categories: [4.A]}, csa: {week: 0} }\n",
    "categories: [C1.4]\n",
    "---"
   ]
  },
  {
   "cell_type": "markdown",
   "metadata": {},
   "source": [
    "https://www.youtube.com/watch?v=NSyj2ggO_B4 \n",
    "\n",
    "This code project uses python machine learning to help recycling facilites. Often times, workers have to keep sorting trash and recycling so the recycling machine doesn't get jammed but this detection between recycling and trash should fix that problem by identifying each object."
   ]
  }
 ],
 "metadata": {
  "kernelspec": {
   "display_name": "Python 3",
   "language": "python",
   "name": "python3"
  },
  "language_info": {
   "codemirror_mode": {
    "name": "ipython",
    "version": 3
   },
   "file_extension": ".py",
   "mimetype": "text/x-python",
   "name": "python",
   "nbconvert_exporter": "python",
   "pygments_lexer": "ipython3",
   "version": "3.11.4"
  },
  "orig_nbformat": 4
 },
 "nbformat": 4,
 "nbformat_minor": 2
}
