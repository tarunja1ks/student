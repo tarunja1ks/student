{
 "cells": [
  {
   "cell_type": "markdown",
   "metadata": {},
   "source": [
    "---\n",
    "toc: true\n",
    "comments: false\n",
    "layout: post\n",
    "title: Quiz\n",
    "description: Simple Addition Quiz\n",
    "type: hacks\n",
    "courses: { compsci: {week: 2} }\n",
    "---"
   ]
  },
  {
   "cell_type": "markdown",
   "metadata": {},
   "source": [
    "\n",
    "<div id=\"output\"></div>\n",
    "<script>\n",
    "const output = document.getElementById(\"output\");\n",
    "</script>"
   ]
  },
  {
   "cell_type": "markdown",
   "metadata": {},
   "source": [
    "<script>\n",
    "  function newProblem(){\n",
    "    console.log(\"hello\");\n",
    "    x=getRandomInt(10);\n",
    "    y=getRandomInt(10);\n",
    "    window.ans=x+y;\n",
    "    const array=[x,y,window.ans];\n",
    "    output.innerHTML=x+\"+\"+y+\"=\";\n",
    "    return array;\n",
    "\n",
    "  }\n",
    "  function getRandomInt(max) {\n",
    "    return Math.floor(Math.random() * max);\n",
    "  } \n",
    "  function checkanswer(){\n",
    "    const entered = document. getElementById(\"name\"). value\n",
    "    if(entered==window.ans){\n",
    "      output.innerHTML = \"Correct\";\n",
    "    }\n",
    "    else{\n",
    "      output.innerHTML=\"wrong\";\n",
    "    }\n",
    "  }\n",
    "</script>\n",
    "<input type=\"text\" id=\"name\" name=\"name\"/>\n",
    "<button onclick=\"newProblem()\">Click Here for a new Problem</button>\n",
    "<button onclick=\"checkanswer()\">Submit</button>\n"
   ]
  }
 ],
 "metadata": {
  "language_info": {
   "name": "python"
  },
  "orig_nbformat": 4
 },
 "nbformat": 4,
 "nbformat_minor": 2
}
