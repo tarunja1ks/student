{
 "cells": [
  {
   "cell_type": "markdown",
   "metadata": {},
   "source": [
    "---\n",
    "toc: true\n",
    "comments: false\n",
    "layout: post\n",
    "title: Week 2 Tangible\n",
    "description: Summary\n",
    "type: tangibles\n",
    "courses: { compsci: {week: 2} }\n",
    "---"
   ]
  },
  {
   "cell_type": "markdown",
   "metadata": {},
   "source": [
    "## Week 2 Tangible \n",
    "This week I have worked on a project to increase my knowledge in html and javascript. I had made a quiz game from scratch, which includes arithmetic problems and has unlimited questions. I also added multiple projects to my notebook and remade the repository to add all the sample games such as snake, game of life, and more. "
   ]
  }
 ],
 "metadata": {
  "language_info": {
   "name": "python"
  },
  "orig_nbformat": 4
 },
 "nbformat": 4,
 "nbformat_minor": 2
}
