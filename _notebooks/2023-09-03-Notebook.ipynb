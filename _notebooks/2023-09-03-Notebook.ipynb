{
 "cells": [
  {
   "cell_type": "markdown",
   "metadata": {},
   "source": [
    "---\n",
    "layout: post\n",
    "title: Database Adder\n",
    "description: A Tech Talk on Linux and the Bash shell.\n",
    "toc: true\n",
    "comments: true\n",
    "categories: [5.A, C4.1]\n",
    "courses: { compsci: {week: 1, categories: [6.B]} }\n",
    "type: plans\n",
    "---"
   ]
  },
  {
   "cell_type": "markdown",
   "metadata": {},
   "source": [
    "<script>\n",
    "        function sendInput(){\n",
    "           const text=document. getElementById(\"input\"). value;\n",
    "           \n",
    "        }\n",
    "</script>\n",
    "<head>\n",
    "    <title>Interactive Python Web App</title>\n",
    "</head>\n",
    "<body>\n",
    "    <h1>Interactive Python Web App</h1>\n",
    "    <p id=\"result\">Result: </p>\n",
    "    <input type=\"text\" id=\"input\">\n",
    "    <button onclick=\"sendInput()\">Submit</button>\n",
    "\n",
    "</body>\n",
    "\n"
   ]
  },
  {
   "cell_type": "markdown",
   "metadata": {},
   "source": []
  }
 ],
 "metadata": {
  "kernelspec": {
   "display_name": "Python 3",
   "language": "python",
   "name": "python3"
  },
  "language_info": {
   "codemirror_mode": {
    "name": "ipython",
    "version": 3
   },
   "file_extension": ".py",
   "mimetype": "text/x-python",
   "name": "python",
   "nbconvert_exporter": "python",
   "pygments_lexer": "ipython3",
   "version": "3.11.4"
  },
  "orig_nbformat": 4
 },
 "nbformat": 4,
 "nbformat_minor": 2
}
