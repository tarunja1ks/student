{
 "cells": [
  {
   "cell_type": "markdown",
   "metadata": {},
   "source": [
    "---\n",
    "layout: post\n",
    "title: Weather Information\n",
    "description: Find The Weather in Any Location\n",
    "toc: true\n",
    "categories: [5.A, C4.1]\n",
    "courses: { compsci: {week: 3, categories: [6.B]} }\n",
    "type: hacks\n",
    "---"
   ]
  },
  {
   "cell_type": "markdown",
   "metadata": {},
   "source": [
    "<div id=\"output\"></div>\n",
    "<script>\n",
    "const output = document.getElementById(\"output\");\n",
    "</script>"
   ]
  },
  {
   "cell_type": "markdown",
   "metadata": {},
   "source": [
    "<script>\n",
    "    function Weather() {\n",
    "        const apiKey = '41c77cef54444957bbb80248230609';\n",
    "\n",
    "        // Define the API endpoint URL\n",
    "        const apiUrl = 'https://api.weatherapi.com/v1/current.json';\n",
    "\n",
    "        // Get the user's input location\n",
    "        const location = document.getElementById('input2').value;\n",
    "\n",
    "        // Set up the request parameters, including the API key and location\n",
    "        const params = {\n",
    "            key: apiKey,\n",
    "            q: location, // Use the user's input as the location\n",
    "            // Add other parameters as needed based on the API documentation\n",
    "        };\n",
    "\n",
    "        // Build the URL with query parameters\n",
    "        const url = new URL(apiUrl);\n",
    "        url.search = new URLSearchParams(params).toString();\n",
    "\n",
    "        // Make an HTTP GET request to the API\n",
    "        fetch(url)\n",
    "            .then(response => {\n",
    "                if (response.ok) {\n",
    "                    return response.json(); // Parse the JSON response\n",
    "                } else {\n",
    "                    throw new Error('Request failed.');\n",
    "                }\n",
    "            })\n",
    "            .then(data => {\n",
    "                // Handle the API response data here\n",
    "                console.log(data);\n",
    "                output.innerHTML=\"The current weather at this location in Farenheit is \"+data.current.temp_f+ \"degrees and in celcius it is \"+data.current.temp_c+\" degrees.\";\n",
    "            })\n",
    "            .catch(error => {\n",
    "                console.error('Error:', error);\n",
    "            });\n",
    "    }\n",
    "</script>\n",
    "\n",
    "<body>\n",
    "    <input type=\"text\" id=\"input2\">\n",
    "    <button onclick=\"Weather()\">Submit Location</button>\n",
    "</body>"
   ]
  },
  {
   "cell_type": "markdown",
   "metadata": {},
   "source": []
  }
 ],
 "metadata": {
  "kernelspec": {
   "display_name": "Python 3",
   "language": "python",
   "name": "python3"
  },
  "language_info": {
   "codemirror_mode": {
    "name": "ipython",
    "version": 3
   },
   "file_extension": ".py",
   "mimetype": "text/x-python",
   "name": "python",
   "nbconvert_exporter": "python",
   "pygments_lexer": "ipython3",
   "version": "3.11.4"
  },
  "orig_nbformat": 4
 },
 "nbformat": 4,
 "nbformat_minor": 2
}
