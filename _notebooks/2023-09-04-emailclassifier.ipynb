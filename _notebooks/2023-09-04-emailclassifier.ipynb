{
 "cells": [
  {
   "cell_type": "markdown",
   "metadata": {},
   "source": [
    "---\n",
    "layout: post\n",
    "title: Email Classifier\n",
    "description: Uses Machine learning to classify Emails as Spam or not and is ran on Jupyter Notebooks\n",
    "toc: true\n",
    "comments: true\n",
    "categories: [5.A, C4.1]\n",
    "courses: { compsci: {week: 3, categories: [6.B]} }\n",
    "type: hacks\n",
    "---"
   ]
  },
  {
   "cell_type": "markdown",
   "metadata": {},
   "source": [
    "## Code for Python Email Spam Classifier"
   ]
  },
  {
   "cell_type": "code",
   "execution_count": null,
   "metadata": {},
   "outputs": [],
   "source": [
    "from sklearn.model_selection import train_test_split\n",
    "from sklearn.naive_bayes import GaussianNB\n",
    "from sklearn.feature_extraction.text import CountVectorizer\n",
    "import pandas as pd\n",
    "import numpy as np\n",
    "data = pd.read_csv('spam.csv')\n",
    "print(data['v1'])"
   ]
  },
  {
   "cell_type": "code",
   "execution_count": null,
   "metadata": {},
   "outputs": [],
   "source": [
    "# Pre-data processing\n",
    "columnsdrop = [col for col in data.columns if 'Unnamed' in col]\n",
    "data.drop(columns=columnsdrop, inplace=True)\n",
    "data['v1']=data['v1'].map({'ham':1,'spam':0}) # binary hot encoding\n",
    "cv = CountVectorizer()\n",
    "data=data.dropna()\n",
    "print(data)\n",
    "x_train,x_test,y_train,y_test=train_test_split(data['v2'],data['v1'],test_size = 0.3)\n",
    "x_train = cv.fit_transform(x_train) # Bag of words"
   ]
  },
  {
   "cell_type": "code",
   "execution_count": null,
   "metadata": {},
   "outputs": [],
   "source": [
    "from sklearn.linear_model import LogisticRegression\n",
    "MNB = LogisticRegression(C=1.0, solver='lbfgs', max_iter=100)\n",
    "\n",
    "MNB.fit(x_train, y_train)\n",
    "\n"
   ]
  },
  {
   "cell_type": "code",
   "execution_count": null,
   "metadata": {},
   "outputs": [],
   "source": [
    "from sklearn.metrics import r2_score\n",
    "print(type(x_test))\n",
    "predicted = MNB.predict(cv.transform(x_test).toarray()) \n",
    "p2=MNB.predict(x_train.toarray()) \n",
    "print(predicted)\n",
    "print(r2_score(y_test,predicted))\n",
    "print(r2_score(y_train,p2))\n",
    "print(y_test)\n",
    "print()"
   ]
  },
  {
   "cell_type": "code",
   "execution_count": null,
   "metadata": {},
   "outputs": [],
   "source": [
    "text=[\"click on my link thing.com\"]\n",
    "testingvalue=MNB.predict(cv.transform(text))\n",
    "print(testingvalue)"
   ]
  },
  {
   "cell_type": "code",
   "execution_count": null,
   "metadata": {},
   "outputs": [],
   "source": [
    "\n",
    "\n",
    "coefficients = MNB.coef_  # Coefficients for each feature\n",
    "intercept = MNB.intercept_ \n",
    "print(coefficients, intercept)"
   ]
  },
  {
   "cell_type": "code",
   "execution_count": null,
   "metadata": {},
   "outputs": [],
   "source": []
  }
 ],
 "metadata": {
  "kernelspec": {
   "display_name": "Python 3 (ipykernel)",
   "language": "python",
   "name": "python3"
  },
  "language_info": {
   "codemirror_mode": {
    "name": "ipython",
    "version": 3
   },
   "file_extension": ".py",
   "mimetype": "text/x-python",
   "name": "python",
   "nbconvert_exporter": "python",
   "pygments_lexer": "ipython3",
   "version": "3.11.4"
  }
 },
 "nbformat": 4,
 "nbformat_minor": 2
}
