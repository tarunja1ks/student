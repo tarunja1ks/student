{
 "cells": [
  {
   "cell_type": "markdown",
   "metadata": {},
   "source": [
    "---\n",
    "layout: post\n",
    "title: Stock Information\n",
    "description: Find The Stock Market Details\n",
    "toc: true\n",
    "categories: [5.A, C4.1]\n",
    "courses: { compsci: {week: 3, categories: [6.B]} }\n",
    "type: hacks\n",
    "---"
   ]
  },
  {
   "cell_type": "markdown",
   "metadata": {},
   "source": [
    "<div id=\"output\"></div>\n",
    "<script>\n",
    "const output = document.getElementById(\"output\");\n",
    "</script>"
   ]
  },
  {
   "cell_type": "markdown",
   "metadata": {},
   "source": []
  }
 ],
 "metadata": {
  "language_info": {
   "name": "python"
  },
  "orig_nbformat": 4
 },
 "nbformat": 4,
 "nbformat_minor": 2
}
