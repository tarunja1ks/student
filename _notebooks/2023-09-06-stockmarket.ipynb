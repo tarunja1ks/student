{
 "cells": [
  {
   "cell_type": "markdown",
   "metadata": {},
   "source": [
    "---\n",
    "layout: post\n",
    "title: Stock Information\n",
    "description: Find The Stock Market Details\n",
    "toc: true\n",
    "categories: [5.A, C4.1]\n",
    "courses: { compsci: {week: 3, categories: [6.B]} }\n",
    "type: hacks\n",
    "---"
   ]
  },
  {
   "cell_type": "markdown",
   "metadata": {},
   "source": [
    "<div id=\"output\"></div>\n",
    "<script>\n",
    "const output = document.getElementById(\"output\");\n",
    "</script>"
   ]
  },
  {
   "cell_type": "markdown",
   "metadata": {},
   "source": [
    "<script>\n",
    "    function Stock() {\n",
    "        const apiKey = 'CQIE6H6QAY3NA2Z3'; \n",
    "        const company = document.getElementById('input2').value;\n",
    "        const apiUrl = `https://www.alphavantage.co/query?function=TIME_SERIES_INTRADAY&symbol=${company}&interval=5min&apikey=${apiKey}`;\n",
    "        fetch(apiUrl)\n",
    "            .then(response => {\n",
    "                if (response.ok) {\n",
    "                    return response.json(); \n",
    "                } else {\n",
    "                    throw new Error('Request failed.');\n",
    "                }\n",
    "            })\n",
    "            .then(data => {\n",
    "                console.log(data);\n",
    "\n",
    "                const latestTimestamp = data['Meta Data']['3. Last Refreshed'];\n",
    "\n",
    "\n",
    "                const openPrice = data['Time Series (5min)'][latestTimestamp]['1. open'];\n",
    "\n",
    "\n",
    "                const output = document.getElementById('output');\n",
    "                output.innerHTML = `The current price of ${company} is ${openPrice}`;\n",
    "            })\n",
    "            .catch(error => {\n",
    "                console.error('Error:', error);\n",
    "            });\n",
    "    }\n",
    "</script>\n",
    "\n",
    "<body>\n",
    "    <input type=\"text\" id=\"input2\">\n",
    "    <button onclick=\"Stock()\">Submit Company</button>\n",
    "    <p id=\"output\"></p>\n",
    "</body>\n",
    "\n",
    "\n",
    "\n",
    "\n"
   ]
  }
 ],
 "metadata": {
  "language_info": {
   "name": "python"
  },
  "orig_nbformat": 4
 },
 "nbformat": 4,
 "nbformat_minor": 2
}
