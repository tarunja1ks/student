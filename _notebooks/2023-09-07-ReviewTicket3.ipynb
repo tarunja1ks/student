{
 "cells": [
  {
   "cell_type": "markdown",
   "metadata": {},
   "source": [
    "---\n",
    "layout: post\n",
    "title: Week 3 Review Ticket\n",
    "description: Review on our accomplishments in the week\n",
    "toc: True\n",
    "comments: True\n",
    "categories: ['5.A', 'C4.1']\n",
    "courses: {'compsci': {'week': 3, 'categories': ['6.B']}}\n",
    "type: tangibles\n",
    "---"
   ]
  },
  {
   "cell_type": "markdown",
   "metadata": {},
   "source": [
    "## What we've done\n",
    "My partner and I have achieved our goals for this week involving the showcase. We have been able to include:\n",
    "1. An email Classifier(in jupyter notebook only)\n",
    "2. Access to Weather Data\n",
    "In addition, we have also included:\n",
    "1. A stock API, which provides real time stock information\n",
    "2. A blue glow to the header when you hover over a button"
   ]
  }
 ],
 "metadata": {
  "language_info": {
   "name": "python"
  },
  "orig_nbformat": 4
 },
 "nbformat": 4,
 "nbformat_minor": 2
}
