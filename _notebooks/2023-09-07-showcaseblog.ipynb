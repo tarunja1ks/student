{
 "cells": [
  {
   "cell_type": "markdown",
   "metadata": {},
   "source": [
    "---\n",
    "layout: post\n",
    "title: Showcase Blog\n",
    "description: Deva Sasikumar and my showcase\n",
    "toc: True\n",
    "categories: ['5.A', 'C4.1']\n",
    "\n",
    "---\n"
   ]
  },
  {
   "cell_type": "markdown",
   "metadata": {},
   "source": [
    "## What we've done\n",
    "My partner and I have achieved our goals for this week involving the showcase. We have been able to include:\n",
    "1. An email Classifier(in jupyter notebook only)\n",
    "2. Access to Weather Data\n",
    "In addition, we have also included:\n",
    "1. A stock API, which provides real time stock information\n",
    "2. A blue glow to the header when you hover over a button \n",
    "\n",
    "## Presentation Outline\n",
    "My partner and I have created numerous projects with knowledge taught in this class and personal research. We would like to go over some which we feel are very special and reflective of our knowledge.\n",
    "\n",
    "1. Email Classifier-Tarun\n",
    "2. Glow Bar- Tarun\n",
    "3. Stock API- Deva\n",
    "4. Weather API- Deva"
   ]
  }
 ],
 "metadata": {
  "language_info": {
   "name": "python"
  },
  "orig_nbformat": 4
 },
 "nbformat": 4,
 "nbformat_minor": 2
}
