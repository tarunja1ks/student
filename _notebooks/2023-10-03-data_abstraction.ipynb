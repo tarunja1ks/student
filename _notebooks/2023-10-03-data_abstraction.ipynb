{
 "cells": [
  {
   "cell_type": "code",
   "execution_count": 3,
   "metadata": {},
   "outputs": [
    {
     "name": "stdout",
     "output_type": "stream",
     "text": [
      "3\n",
      "0\n",
      "Thatthing is very cool.\n"
     ]
    }
   ],
   "source": [
    "## Question 1\n",
    "num1Int=0\n",
    "num2Int=3\n",
    "sumvalue=num1Int+num2Int\n",
    "print(sumvalue)\n",
    "\n",
    "#Question 2\n",
    "float1=3.3\n",
    "float2=5.5\n",
    "quotient=int(float1/float2)\n",
    "print(quotient)\n",
    "\n",
    "#Question 3\n",
    "string1=\"thing\"\n",
    "string2=\"is very cool.\"\n",
    "sentence=string1+string2\n",
    "print(\"That \" +string1+\" \"+string2)\n"
   ]
  },
  {
   "cell_type": "code",
   "execution_count": 4,
   "metadata": {
    "vscode": {
     "languageId": "javascript"
    }
   },
   "outputs": [
    {
     "ename": "SyntaxError",
     "evalue": "invalid syntax (1252639147.py, line 1)",
     "output_type": "error",
     "traceback": [
      "\u001b[0;36m  Cell \u001b[0;32mIn[4], line 1\u001b[0;36m\u001b[0m\n\u001b[0;31m    const thing = [\"Cow\", \"Cat\", \"Dog\", \"Tiger\", \"Fish\"];\u001b[0m\n\u001b[0m          ^\u001b[0m\n\u001b[0;31mSyntaxError\u001b[0m\u001b[0;31m:\u001b[0m invalid syntax\n"
     ]
    }
   ],
   "source": [
    "const thing = [\"Cow\", \"Cat\", \"Dog\", \"Tiger\", \"Fish\"];\n",
    "console.log(thing);"
   ]
  },
  {
   "cell_type": "code",
   "execution_count": 5,
   "metadata": {
    "vscode": {
     "languageId": "javascript"
    }
   },
   "outputs": [
    {
     "name": "stdout",
     "output_type": "stream",
     "text": [
      "[7, 9, 2, 8]\n"
     ]
    }
   ],
   "source": [
    "variable1=7\n",
    "variable2=9\n",
    "variable3=2\n",
    "variable4=8\n",
    "list=[variable1,variable2,variable3,variable4]\n",
    "print(list)"
   ]
  },
  {
   "cell_type": "markdown",
   "metadata": {},
   "source": [
    "### Homework\n"
   ]
  },
  {
   "cell_type": "code",
   "execution_count": null,
   "metadata": {
    "vscode": {
     "languageId": "javascript"
    }
   },
   "outputs": [],
   "source": [
    "name=\"tarun\"\n",
    "print(\"hello\"+name)\n",
    "\n"
   ]
  }
 ],
 "metadata": {
  "kernelspec": {
   "display_name": "Python 3",
   "language": "python",
   "name": "python3"
  },
  "language_info": {
   "codemirror_mode": {
    "name": "ipython",
    "version": 3
   },
   "file_extension": ".py",
   "mimetype": "text/x-python",
   "name": "python",
   "nbconvert_exporter": "python",
   "pygments_lexer": "ipython3",
   "version": "3.11.4"
  },
  "orig_nbformat": 4
 },
 "nbformat": 4,
 "nbformat_minor": 2
}
