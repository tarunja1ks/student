{
 "cells": [
  {
   "cell_type": "markdown",
   "metadata": {},
   "source": [
    "---\n",
    "toc: true\n",
    "comments: false\n",
    "layout: post\n",
    "title: Extra Credit Reviews\n",
    "description: Reviews of Other groups\n",
    "type: tangibles\n",
    "courses: { compsci: {week: 12} }\n",
    "---"
   ]
  },
  {
   "cell_type": "markdown",
   "metadata": {},
   "source": []
  },
  {
   "cell_type": "markdown",
   "metadata": {},
   "source": [
    "# David, Austin, Aiden Peer Review\n",
    "Hook: 3.9\n",
    "It seemed pretty good explaining why we need to know the weather and its importance in our lives.\n",
    "Knowledge: 3.8\n",
    "It shows great understanding in front and background with the cloudy image of the frontend but can also add a theme in their to-do list.\n",
    "Value: 0.9\n",
    "Seems very useful to check the weather but not a clear advantage over other weather platforms or something unique.\n",
    "Wow Factor: 1\n",
    "Reason: I liked to frontend a lot especially with the background, which had a nice image of the clouds and the todo list seemed to be simple yet very functional and useful."
   ]
  },
  {
   "cell_type": "markdown",
   "metadata": {},
   "source": [
    "# Nitin's College Project\n",
    "Hook:\n",
    "3.9 Points\n",
    "The Front Page seemed very detailed and involved a lot of good images and details and it pulled me in\n",
    "Knowledge: 4.0\n",
    "The backend knowledge was cleary shown involving a CHAT GPT API and the use of a search bar. The Front end knowledge was also shown with the different boxes of colleges.\n",
    "\n",
    "Value: 1.0\n",
    "This is very useful for many high schoolers since it could motivate them to get better scores and show the different colleges they might get into for college apps.\n",
    "\n",
    "Wow Factor: I liked the AI bot."
   ]
  },
  {
   "cell_type": "markdown",
   "metadata": {},
   "source": [
    "# Nurpur Project Study Buddy\n",
    "USAGE OF:\n",
    "\n",
    " Frontend\n",
    "\n",
    " Backend\n",
    "\n",
    " API\n",
    "\n",
    " Agile\n",
    "\n",
    "HOOK:\n",
    "Points: 4.0\n",
    "Reason: Started out with the struggles of school and how many classes often give tough homework and tests, which are hard to prepare for. \n",
    "\n",
    "KNOWLEDGE: 3.9\n",
    "Points: 3.6-4.0\n",
    "Reason: Shows good frontend and javascript knowledge with the flashcards linking, the different color schemes, images, and icons. Also shows a good backend with the CHATGPT OpenAI API being used. \n",
    "\n",
    "VALUE: 0.9\n",
    "Points: 0.6-1.0\n",
    "Reason: It seems very useful for me as I can use this in school to study for different AP classes and to also get help with homework. It is a easy frontend that combines multiple elements. \n",
    "\n",
    "WOW FACTOR: \n",
    "Reason: I was wowed mainly but the interesting color scheme and the amount of projects that went inside including flashcards and more. "
   ]
  }
 ],
 "metadata": {
  "language_info": {
   "name": "python"
  }
 },
 "nbformat": 4,
 "nbformat_minor": 2
}
