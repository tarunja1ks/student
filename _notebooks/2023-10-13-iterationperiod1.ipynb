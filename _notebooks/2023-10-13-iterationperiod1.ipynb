{
 "cells": [
  {
   "cell_type": "markdown",
   "metadata": {},
   "source": [
    "---\n",
    "toc: true\n",
    "comments: false\n",
    "layout: post\n",
    "title: Iteration Hw Period 1\n",
    "description: Iteration hw\n",
    "type: hacks\n",
    "courses: { compsci: {week: 7} }\n",
    "---"
   ]
  },
  {
   "cell_type": "code",
   "execution_count": null,
   "metadata": {},
   "outputs": [],
   "source": [
    "aspect=['My age is 15','I like to play basketball','I am 7 foot 2 inches tall', 'I like to eat food']\n",
    "def recursion(index):\n",
    "    if(index==4):\n",
    "        return\n",
    "    else:\n",
    "        print(aspect[index])\n",
    "        recursion(index+1)\n",
    "recursion(0)\n",
    "\n",
    "\n",
    "\n"
   ]
  },
  {
   "cell_type": "code",
   "execution_count": 1,
   "metadata": {},
   "outputs": [
    {
     "name": "stdout",
     "output_type": "stream",
     "text": [
      "0\n",
      "1\n",
      "1\n",
      "2\n",
      "3\n",
      "5\n",
      "8\n",
      "13\n"
     ]
    }
   ],
   "source": [
    "#2 \n",
    "def fibonacci(x):\n",
    "    if x==1:\n",
    "          return(0) # First terminating statement\n",
    "    if x == 2:\n",
    "          return(1) # Second terminating statement\n",
    "   \n",
    "    else:\n",
    "          return(fibonacci(x-1)+ fibonacci(x-2))\n",
    "\n",
    "\n",
    "for i in range(8):    \n",
    "        print(fibonacci(i+1))\n",
    "        \n",
    "# We need 2 terminating statements in this case since the first 2 numbers are suppose to be the base numbers and cannot be based on previous terms as normally in the fibbonacci sequence since there aren't enough numbers before it. "
   ]
  }
 ],
 "metadata": {
  "kernelspec": {
   "display_name": "Python 3",
   "language": "python",
   "name": "python3"
  },
  "language_info": {
   "codemirror_mode": {
    "name": "ipython",
    "version": 3
   },
   "file_extension": ".py",
   "mimetype": "text/x-python",
   "name": "python",
   "nbconvert_exporter": "python",
   "pygments_lexer": "ipython3",
   "version": "3.11.4"
  },
  "orig_nbformat": 4
 },
 "nbformat": 4,
 "nbformat_minor": 2
}
