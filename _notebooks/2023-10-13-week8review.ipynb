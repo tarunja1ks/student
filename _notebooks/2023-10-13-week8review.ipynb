{
 "cells": [
  {
   "cell_type": "markdown",
   "metadata": {},
   "source": [
    "---\n",
    "toc: true\n",
    "comments: false\n",
    "layout: post\n",
    "title: Review of Work 8 compeleted\n",
    "description: Review of Week 8 and Plans for Week 9\n",
    "type: tangibles\n",
    "courses: { compsci: {week: 8} }\n",
    "---"
   ]
  },
  {
   "cell_type": "markdown",
   "metadata": {},
   "source": [
    "# Review of the Week\n",
    "This week was mainly focused on the introduction of the passion project, brainstorming roles, and figuring out what our topic would be. We figured out topic would be on cryptogoraphy a common topic, which most of group seemed to find as intresting. We then created a github repository in which we can all collabarate on it. We also figured out team roles with myself and Shuban as the backend, Deva as the Scrum Master, and Hayden as the frontend. In this week, we have also went for the teamteach and assigned homework. We talked about the types of algorithims and introduced it to the diffrent students. This helped deepen our understanding on the topic and also teach it to others. "
   ]
  },
  {
   "cell_type": "markdown",
   "metadata": {},
   "source": [
    "# Plans\n",
    "    - We hope to get started on seperating the repo into a backend and frontend and also setting up aws\n",
    "    - We also hope to start to create some of the encyrption algorithims\n",
    "    - We hope to figure out a plan on how to decyrpt a given text(brainstroming doing it with AI)\n",
    "    - Using a random generator API for one of the encryption algorithikms\n"
   ]
  }
 ],
 "metadata": {
  "language_info": {
   "name": "python"
  }
 },
 "nbformat": 4,
 "nbformat_minor": 2
}
