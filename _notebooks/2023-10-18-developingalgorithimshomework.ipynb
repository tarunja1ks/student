{
 "cells": [
  {
   "cell_type": "markdown",
   "metadata": {},
   "source": [
    "---\n",
    "toc: true\n",
    "comments: false\n",
    "layout: post\n",
    "title: Devloping Algorithims hw\n",
    "description: Devloping Algorithims hw\n",
    "type: hacks\n",
    "courses: { compsci: {week: 8} }\n",
    "---"
   ]
  },
  {
   "cell_type": "code",
   "execution_count": 7,
   "metadata": {},
   "outputs": [
    {
     "name": "stdout",
     "output_type": "stream",
     "text": [
      "[19, 41, 99, 81, 70, 69]\n",
      "\n",
      "The sorted classgrades from least to greatest is 19 41 69 70 81 99\n",
      "The median of the classgrades is 69.5\n"
     ]
    }
   ],
   "source": [
    "#First Problem\n",
    "classgrades=[19,41,99,81,70,69]\n",
    "print(classgrades)\n",
    "classgrades.sort()\n",
    "if(len(classgrades)%2==1):\n",
    "    median_value=classgrades[int(len(classgrades)/2)]\n",
    "else:\n",
    "    median_value=classgrades[int(len(classgrades)/2)-1]+classgrades[int(len(classgrades)/2)]\n",
    "    median_value/=2\n",
    "classgrades=[str(i) for i in classgrades]\n",
    "print()\n",
    "print(\"The sorted classgrades from least to greatest is \"+' '.join(classgrades))\n",
    "print(\"The median of the classgrades is\",median_value)\n"
   ]
  },
  {
   "cell_type": "code",
   "execution_count": 10,
   "metadata": {},
   "outputs": [
    {
     "name": "stdout",
     "output_type": "stream",
     "text": [
      "Play the Guess the Number Game\n",
      "Try again next time!\n",
      "Try again next time!\n"
     ]
    }
   ],
   "source": [
    "#Second Porblem\n",
    "import random\n",
    "keepplaying=True\n",
    "print(\"Play the Guess the Number Game\")\n",
    "while(keepplaying):\n",
    "    randnum=random.randint(1,100)\n",
    "    userinput=input(\"Guess the number between 1 and 100\")\n",
    "    if(randnum==int(userinput)):\n",
    "        print(\"Good Job You have won\")\n",
    "    else:\n",
    "        print(\"Try again next time!\")\n",
    "    playin=input(\"Type yes to keep playing and type anything else to stop\")\n",
    "    keepplaying=False\n",
    "    if(playin.lower()==\"yes\"):\n",
    "        keepplaying=True\n",
    "\n"
   ]
  },
  {
   "cell_type": "code",
   "execution_count": null,
   "metadata": {},
   "outputs": [],
   "source": []
  }
 ],
 "metadata": {
  "kernelspec": {
   "display_name": "Python 3",
   "language": "python",
   "name": "python3"
  },
  "language_info": {
   "codemirror_mode": {
    "name": "ipython",
    "version": 3
   },
   "file_extension": ".py",
   "mimetype": "text/x-python",
   "name": "python",
   "nbconvert_exporter": "python",
   "pygments_lexer": "ipython3",
   "version": "3.11.4"
  }
 },
 "nbformat": 4,
 "nbformat_minor": 2
}
