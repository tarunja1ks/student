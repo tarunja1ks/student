{
 "cells": [
  {
   "cell_type": "markdown",
   "metadata": {},
   "source": [
    "---\n",
    "toc: true\n",
    "comments: false\n",
    "layout: post\n",
    "title: Iteration/Search Hw\n",
    "description: Iteration/Search Hw\n",
    "type: hacks\n",
    "courses: { compsci: {week: 7} }\n",
    "---"
   ]
  },
  {
   "cell_type": "code",
   "execution_count": 1,
   "metadata": {},
   "outputs": [
    {
     "name": "stdout",
     "output_type": "stream",
     "text": [
      "20.0 is the average grade of the class\n",
      "5  is the worst iteration count for binary search\n"
     ]
    }
   ],
   "source": [
    "#1\n",
    "# My programming will be about finding the average grades in a class\n",
    "n=int(input(\"How many students are there?\"))\n",
    "ListOfGrades=[float(input(\"enter the grade of student \"+str(i)))for i in range(n)]\n",
    "sumvalue=0\n",
    "for i in ListOfGrades:\n",
    "    sumvalue+=i\n",
    "print((sumvalue/n),\"is the average grade of the class\")\n",
    "\n",
    "#2\n",
    "import math\n",
    "value=math.log2(20)\n",
    "if(float(value)>float(int(value))):\n",
    "    value=int(value)+1\n",
    "else:\n",
    "    value=int(value)\n",
    "print(value,\" is the worst iteration count for binary search\")\n",
    "\n",
    "#3 \n",
    "# It will be choice A as the program doubles all the elements in the list. "
   ]
  }
 ],
 "metadata": {
  "kernelspec": {
   "display_name": "Python 3",
   "language": "python",
   "name": "python3"
  },
  "language_info": {
   "codemirror_mode": {
    "name": "ipython",
    "version": 3
   },
   "file_extension": ".py",
   "mimetype": "text/x-python",
   "name": "python",
   "nbconvert_exporter": "python",
   "pygments_lexer": "ipython3",
   "version": "3.11.4"
  }
 },
 "nbformat": 4,
 "nbformat_minor": 2
}
