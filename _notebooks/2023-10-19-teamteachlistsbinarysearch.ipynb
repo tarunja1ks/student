{
 "cells": [
  {
   "cell_type": "markdown",
   "metadata": {},
   "source": [
    "---\n",
    "toc: true\n",
    "comments: false\n",
    "layout: post\n",
    "title: Iteration/Search Hw\n",
    "description: Iteration/Search Hw\n",
    "type: hacks\n",
    "courses: { compsci: {week: 9} }\n",
    "---"
   ]
  },
  {
   "cell_type": "code",
   "execution_count": 1,
   "metadata": {},
   "outputs": [
    {
     "name": "stdout",
     "output_type": "stream",
     "text": [
      "20.0 is the average grade of the class\n",
      "5  is the worst iteration count for binary search\n"
     ]
    }
   ],
   "source": [
    "#1\n",
    "# My programming will be about finding the average grades in a class\n",
    "n=int(input(\"How many students are there?\"))\n",
    "ListOfGrades=[float(input(\"enter the grade of student \"+str(i)))for i in range(n)]\n",
    "sumvalue=0\n",
    "for i in ListOfGrades:\n",
    "    sumvalue+=i\n",
    "print((sumvalue/n),\"is the average grade of the class\")\n",
    "\n",
    "#2\n",
    "import math\n",
    "value=math.log2(20)\n",
    "if(float(value)>float(int(value))):\n",
    "    value=int(value)+1\n",
    "else:\n",
    "    value=int(value)\n",
    "print(value,\" is the worst iteration count for binary search\")\n",
    "\n",
    "#3 \n",
    "# It will be choice A as the program doubles all the elements in the list. "
   ]
  },
  {
   "cell_type": "markdown",
   "metadata": {},
   "source": [
    "# Notes\n",
    "    - Types of Operators\n",
    "    Use the “+” operator to add two numbers in JavaScript\n",
    "\n",
    "    Use the “-“ operator to subtract two numbers in JavaScript\n",
    "\n",
    "    Use the “*” operator to multiply two numbers in JavaScript\n",
    "\n",
    "    Use the “/” operator to divide two numbers in JavaScript\n",
    "\n",
    "    Use the “%” operator to get the remainder of a division operation in JavaScript\n",
    "    - Binary Search\n",
    "        - Binary search involves dividing the list in half constantly in search of the wantd number and the list must be sorted\n",
    "        - This means the timing or iteration counts is log2(n) where n is the size of the list"
   ]
  }
 ],
 "metadata": {
  "kernelspec": {
   "display_name": "Python 3",
   "language": "python",
   "name": "python3"
  },
  "language_info": {
   "codemirror_mode": {
    "name": "ipython",
    "version": 3
   },
   "file_extension": ".py",
   "mimetype": "text/x-python",
   "name": "python",
   "nbconvert_exporter": "python",
   "pygments_lexer": "ipython3",
   "version": "3.11.4"
  }
 },
 "nbformat": 4,
 "nbformat_minor": 2
}
