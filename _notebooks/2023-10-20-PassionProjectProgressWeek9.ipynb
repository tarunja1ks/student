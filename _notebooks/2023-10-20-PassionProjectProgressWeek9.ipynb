{
 "cells": [
  {
   "cell_type": "markdown",
   "metadata": {},
   "source": [
    "---\n",
    "toc: true\n",
    "comments: false\n",
    "layout: post\n",
    "title: Review of Work 9 compeleted\n",
    "description: Review of Week 9 and Plans for Week 10\n",
    "type: tangibles\n",
    "courses: { compsci: {week: 9} }\n",
    "---"
   ]
  },
  {
   "cell_type": "markdown",
   "metadata": {},
   "source": [
    "## Passion\n",
    "### Completed By Me\n",
    "    - Added Flask code that is able to encrypt ceasar Cipher\n",
    "    - Started Data Generation code but awaiting the completion of all ciphers before proceding\n",
    "    - Added Comments in the Data Generation code to make it easier for me to understand when I revisit\n",
    "    - Made the API Postman Code, which uses object oriented programming\n",
    "    - Uses object oriented Programming in many spots\n",
    "\n"
   ]
  },
  {
   "cell_type": "markdown",
   "metadata": {},
   "source": [
    "### Issues\n",
    "    - Still Awaiting all Ciphers to be Completed\n",
    "    - Sometimes the API Postman returns 0 for the key and messes up the Ceasar CIpher Encrytion which utilizes it"
   ]
  },
  {
   "cell_type": "markdown",
   "metadata": {},
   "source": [
    "## Teamteach\n",
    "### Lessons\n",
    "    - The homeworks seem to be going very well since I am able to complete it all and often times add extra stuff to make it better and show my expended knowledge on the subject\n",
    "    - The lessons seem to also go well since I am mostly able to understand what is taught it many of the lessons\n"
   ]
  },
  {
   "cell_type": "markdown",
   "metadata": {},
   "source": [
    "### College board\n",
    "    - My plan for the following week is to continue orking on the teamteach but to also start the college board lesson\n",
    "    - I plan to possibly do in gaps of 15 question every day to get it completed as quick as possible without tiring out\n"
   ]
  },
  {
   "cell_type": "markdown",
   "metadata": {},
   "source": [
    "### Blog Plans\n",
    "    - I plan to hopefully continue blogging consecutive after this week providing reviews of my compelted work in the passion project for this tri and also going back to the Teamteach homework to revise what I have completed and learned"
   ]
  }
 ],
 "metadata": {
  "language_info": {
   "name": "python"
  }
 },
 "nbformat": 4,
 "nbformat_minor": 2
}
