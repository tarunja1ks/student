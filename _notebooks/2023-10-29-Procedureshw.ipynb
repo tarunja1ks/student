{
 "cells": [
  {
   "cell_type": "markdown",
   "metadata": {},
   "source": [
    "---\n",
    "toc: true\n",
    "comments: true\n",
    "layout: post\n",
    "title: Proecdures Homework\n",
    "description: The Homework For this week\n",
    "courses: { compsci: {week: 10} }\n",
    "type: hacks\n",
    "---"
   ]
  },
  {
   "cell_type": "code",
   "execution_count": null,
   "metadata": {},
   "outputs": [],
   "source": [
    "#first problem\n",
    "def converttobinary(integer):\n",
    "    #converting to binary by scratch\n",
    "    i=0\n",
    "    string=\"\"\n",
    "    integer=str(integer)\n",
    "    while(i<len(str(integer))): # going through each character and adding the binary of it to a string\n",
    "        if(i==\"0\"):\n",
    "            string+=\"0000\"\n",
    "        elif(i==\"1\"):\n",
    "            string+=\"0001\"\n",
    "        elif(i==\"2\"):\n",
    "            string+=\"0010\"\n",
    "        elif(i==\"3\"):\n",
    "            string+=\"0011\"\n",
    "        elif(i==\"4\"):\n",
    "            string+=\"0100\"\n",
    "        elif(i==\"5\"):\n",
    "            string+=\"0101\"\n",
    "        elif(i==\"6\"):\n",
    "            string+=\"0110\"\n",
    "        elif(i==\"7\"):\n",
    "            string+=\"0111\"\n",
    "        elif(i==\"8\"):\n",
    "            string+=\"1000\"\n",
    "        elif(i==\"9\"):\n",
    "            string+=\"1001\"\n",
    "    return string\n",
    "\n",
    "#second problem\n",
    "def summationfunction(a,b):\n",
    "    return a+b"
   ]
  },
  {
   "cell_type": "markdown",
   "metadata": {},
   "source": [
    "# Notes\n",
    "    -A procedure is a named group of programming instructions, which can have parameters and return values. In Python, procedures are referred to as functions or methods.\n",
    "    -Parameters are input values for a procedure, and arguments specify the values of the parameters when the procedure is called.\n",
    "    -When a procedure is called, it interrupts the sequential execution of statements and executes the statements within the procedure before returning control to the point immediately following the procedure call.\n",
    "    -Procedures allow you to reuse a set of instructions without rewriting them in your code.\n",
    "    -Procedures are an example of abstraction, specifically procedural abstraction.\n",
    "    -Abstraction allows you to call a procedure without knowing how it works, making it easier to solve complex problems based on smaller sub-problems.\n",
    "    Procedures help simplify code and improve readability by breaking it into smaller, reusable parts.  \n"
   ]
  }
 ],
 "metadata": {
  "language_info": {
   "name": "python"
  }
 },
 "nbformat": 4,
 "nbformat_minor": 2
}
