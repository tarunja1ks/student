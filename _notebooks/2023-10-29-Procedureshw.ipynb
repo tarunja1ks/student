{
 "cells": [
  {
   "cell_type": "markdown",
   "metadata": {},
   "source": [
    "---\n",
    "toc: true\n",
    "comments: true\n",
    "layout: post\n",
    "title: Proecdures Homework\n",
    "description: The Homework For this week\n",
    "courses: { compsci: {week: 10} }\n",
    "type: hacks\n",
    "---"
   ]
  },
  {
   "cell_type": "code",
   "execution_count": null,
   "metadata": {},
   "outputs": [],
   "source": [
    "#first problem\n",
    "def converttobinary(integer):\n",
    "    #converting to binary by scratch\n",
    "    i=0\n",
    "    string=\"\"\n",
    "    integer=str(integer)\n",
    "    while(i<len(str(integer))): # going through each character and adding the binary of it to a string\n",
    "        if(i==\"0\"):\n",
    "            string+=\"0000\"\n",
    "        elif(i==\"1\"):\n",
    "            string+=\"0001\"\n",
    "        elif(i==\"2\"):\n",
    "            string+=\"0010\"\n",
    "        elif(i==\"3\"):\n",
    "            string+=\"0011\"\n",
    "        elif(i==\"4\"):\n",
    "            string+=\"0100\"\n",
    "        elif(i==\"5\"):\n",
    "            string+=\"0101\"\n",
    "        elif(i==\"6\"):\n",
    "            string+=\"0110\"\n",
    "        elif(i==\"7\"):\n",
    "            string+=\"0111\"\n",
    "        elif(i==\"8\"):\n",
    "            string+=\"1000\"\n",
    "        elif(i==\"9\"):\n",
    "            string+=\"1001\"\n",
    "    return string\n",
    "\n",
    "#second problem\n",
    "def summationfunction(a,b):\n",
    "    return a+b"
   ]
  }
 ],
 "metadata": {
  "language_info": {
   "name": "python"
  }
 },
 "nbformat": 4,
 "nbformat_minor": 2
}
