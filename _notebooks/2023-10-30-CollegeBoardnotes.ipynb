{
 "cells": [
  {
   "cell_type": "markdown",
   "metadata": {},
   "source": [
    "---\n",
    "toc: true\n",
    "comments: true\n",
    "layout: post\n",
    "title: College Board notes\n",
    "description: The Homework For this week\n",
    "courses: { compsci: {week: 10} }\n",
    "type: tangibles\n",
    "---\n"
   ]
  },
  {
   "cell_type": "markdown",
   "metadata": {},
   "source": [
    "# Questions\n",
    "    -#3 I was confused about the definition of Citizen Science\n",
    "    -#6 I was confused about the definition of IETF or the internet task force thing\n",
    "    -#24 I was confused by the lossless versus lossy transformation"
   ]
  }
 ],
 "metadata": {
  "language_info": {
   "name": "python"
  }
 },
 "nbformat": 4,
 "nbformat_minor": 2
}
