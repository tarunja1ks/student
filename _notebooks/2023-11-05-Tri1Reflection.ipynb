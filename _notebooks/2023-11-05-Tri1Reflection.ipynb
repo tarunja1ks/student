{
 "cells": [
  {
   "cell_type": "markdown",
   "metadata": {},
   "source": [
    "---\n",
    "toc: true\n",
    "comments: false\n",
    "layout: post\n",
    "title: Reflection of Tri 1\n",
    "description: Reflection of Weeks\n",
    "type: tangibles\n",
    "courses: { compsci: {week: 12} }\n",
    "---"
   ]
  },
  {
   "cell_type": "markdown",
   "metadata": {},
   "source": [
    "# Reflection of Tri 1\n",
    "\n",
    "Weeks 0-3\n",
    "I worked mainly on setting up applications such as Vscode, Github, and more and getting use to thm as I was not very comfortable with them at first. I then focused more on the terminal commands as I had some background in it but not fully experienced in it. I also made many projects during this week using research from online and the previous Python knowledge I had before taking this course. For example, I made a weather program that when you submit the weather in a textbox outputs the temperature of that location and doing this project really helped me get use to real-world applications of API and also javascript frontend programming with the submit button and text box. Apart from this program I made an email classifier, which clasifies spam email and this is a common machine learning project used for many begining in AI. \n",
    "\n",
    "\n",
    "Weeks 4-7\n",
    "I delve deeper more into the different web programming and focused on the different applictions I could use this knowledge towards. I got mor use to the different Javascript syntaxes for things such as variables looping and more. I also learned about GIthub Utterance comments and it's usefulness as people could comment feedback on my website and possibly even how to improve it. I also learned about the differnt team roles, scrum boards, and much more management techniques. \n",
    "\n",
    "Week 8-12\n",
    "These weeks focused more into my passion project with my team, which was on Cryptography an intresting subject focusing on encoding and encoding text. I was the backend engineer or coder in this project and focused on making AI decryption possible. I was able to make 2 AI models that succesfully decrypted encrypted text although not fully to an industry level but a basic working level. I also made scripts for this that generated data to train the AI. I also worked on the frontend a little bit, helping with the glowing effects to make the website less plain and also linking the flask endpoints into the frontend. I also made some of the textboxes that were important for the user to enter the information. \n",
    "\n",
    "Overall Summary:\n",
    "\n",
    "The integration of theoretical computer science concepts into a revoltionary cryptography projected has helped me grow to learn about project management and also the tough yet rewarding work behind these projects. I was able to get use to many things such as Javascript, Python Machine learning, and markdown/html.  I am eager to learn more in the next tri of AP CSP and hopefully gain much more knowledge which I can apply to future projects. "
   ]
  }
 ],
 "metadata": {
  "language_info": {
   "name": "python"
  }
 },
 "nbformat": 4,
 "nbformat_minor": 2
}
