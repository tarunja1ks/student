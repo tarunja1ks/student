{
 "cells": [
  {
   "cell_type": "markdown",
   "metadata": {},
   "source": [
    "---\n",
    "toc: true\n",
    "comments: true\n",
    "layout: post\n",
    "title: Week 1 Review for Tri 2\n",
    "description: Tri 2 First Week Review\n",
    "courses: { compsci: {week: 10} }\n",
    "type: tangibles\n",
    "---\n"
   ]
  },
  {
   "cell_type": "markdown",
   "metadata": {},
   "source": [
    "# What I have Accomplished\n",
    "    - Watched some of the college board videos to gain knowledge for the teamteach(Bias)\n",
    "    - I helped set up our github repoistory and helped with communications so our group will stay in touch over code\n",
    "    - Made Scrum Board to organize our group\n",
    "    - I also started some of the rotation code in javascript for binary rotation but it didnt work fully yet"
   ]
  },
  {
   "cell_type": "markdown",
   "metadata": {},
   "source": []
  }
 ],
 "metadata": {
  "language_info": {
   "name": "python"
  }
 },
 "nbformat": 4,
 "nbformat_minor": 2
}
