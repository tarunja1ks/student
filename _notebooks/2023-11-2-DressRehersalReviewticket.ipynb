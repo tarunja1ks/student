{
 "cells": [
  {
   "cell_type": "markdown",
   "metadata": {},
   "source": [
    "---\n",
    "toc: true\n",
    "comments: true\n",
    "layout: post\n",
    "title: Review Ticket For Dress Rehersal\n",
    "description: The Homework For this week\n",
    "courses: { compsci: {week: 10} }\n",
    "type: tangibles\n",
    "---"
   ]
  },
  {
   "cell_type": "markdown",
   "metadata": {},
   "source": [
    "\n",
    "USAGE OF:\n",
    "\n",
    " Frontend\n",
    " Backend\n",
    " API\n",
    " Agile\n",
    "HOOK:\n",
    "Points: 3.6-4.0\n",
    "Reason:\n",
    "\n",
    "KNOWLEDGE:\n",
    "Points: 3.6-4.0\n",
    "Reason:\n",
    "\n",
    "VALUE:\n",
    "Points: 0.6-1.0\n",
    "Reason:\n",
    "\n",
    "WOW FACTOR:\n",
    "Reason:\n",
    "\n"
   ]
  }
 ],
 "metadata": {
  "language_info": {
   "name": "python"
  }
 },
 "nbformat": 4,
 "nbformat_minor": 2
}
