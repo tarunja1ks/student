{
 "cells": [
  {
   "cell_type": "markdown",
   "metadata": {},
   "source": [
    "---\n",
    "toc: True\n",
    "comments: False\n",
    "layout: post\n",
    "title: Review of Week 11 compeleted\n",
    "description: Review of Week 11 and Tri 1 Reflection\n",
    "type: tangibles\n",
    "courses: { compsci: {week: 11} }\n",
    "---"
   ]
  },
  {
   "cell_type": "markdown",
   "metadata": {},
   "source": [
    "# Passion Backend Work Done:\n",
    "    - I was able to create the second AI along eith the datageneration code that makes the CSV for training\n",
    "    - I was able to integrate a decrypt function inside of my flask, which brute forces all the keys for ceasar cipher and uses AI to check it\n",
    "\n",
    "# Passion Frontend Work Done:\n",
    "    - I was able to work on the frontend homepage adding a glow effect to many of the buttons\n",
    "    - I was able to add a glow to the navigation bar\n",
    "    - I added a contact page and created emails and other methods of contact in case a user has a question or error\n",
    "\n",
    "- I was able to complete the Collegeboard Questions 1-66\n",
    "\n"
   ]
  }
 ],
 "metadata": {
  "language_info": {
   "name": "python"
  }
 },
 "nbformat": 4,
 "nbformat_minor": 2
}
