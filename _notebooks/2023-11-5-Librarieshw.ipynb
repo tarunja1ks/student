{
 "cells": [
  {
   "cell_type": "markdown",
   "metadata": {},
   "source": [
    "Here is the Period 1 Libraries HW. It will be due Wednesday night, at 11:59 PM.                                                                                                                                                         1.  Research 3 different libraries in python. Explain their purpose as well as two of your favorite variables/functions in each. Type out your response.\n",
    "2. Research an API. What is something unique about it that you learned in the documentation? What type of an API is it? What does it do? Brainstorm a potential scenario. Type out your response.\n",
    "2. Import a data manipulation library and use a prefixed function and prefixed variable (w/comments)."
   ]
  },
  {
   "cell_type": "markdown",
   "metadata": {},
   "source": [
    "# HW Problem 1\n",
    "API I learned about was the OPENAI api, which you can submit a text-content request as an assistant chat-bot or as a normal user. With this you will be able to make chatbots on your personal website that can assist a user. For example, in a website that sells merch you can add the chatgpt bot that can assist the user if they have trouble with something such as quality of the merch material. \n"
   ]
  },
  {
   "cell_type": "code",
   "execution_count": null,
   "metadata": {},
   "outputs": [],
   "source": [
    "# Problem 2\n",
    "import pandas as pd\n",
    "\n",
    "# Create a sample DataFrame\n",
    "people = {'Name': ['John', 'Jacob', 'Johnny'],\n",
    "        'Age': [25, 30, 22],\n",
    "        'City': ['New York', 'Los Angeles', 'Chicago']}\n",
    "\n",
    "df = pd.DataFrame(people)\n",
    "\n",
    "print(\"Original not modified dataframe\",df) # Here is my original dataframe\n",
    "\n",
    "df['Is_Adult'] = df['Age'] >= 18 # adding a row that tells wether the person is older than 18 or is an adult\n",
    "\n",
    "print(len(df['Is_Adult'], ' is the amount of adults')) # printing out the new row length showing adults in the dataframe\n"
   ]
  }
 ],
 "metadata": {
  "language_info": {
   "name": "python"
  }
 },
 "nbformat": 4,
 "nbformat_minor": 2
}
