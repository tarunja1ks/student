{
 "cells": [
  {
   "cell_type": "markdown",
   "metadata": {},
   "source": [
    "---\n",
    "toc: true\n",
    "comments: true\n",
    "layout: post\n",
    "title: Simulations Homework\n",
    "description: The Homework For this week\n",
    "courses: { compsci: {week: 11} }\n",
    "type: hacks\n",
    "---"
   ]
  },
  {
   "cell_type": "markdown",
   "metadata": {},
   "source": [
    "Homework Hacks\n",
    "Write an algorithm in python that uses a function to sort 4 numbers from lowest to highest.\n",
    "What are 3 benefits and 1 negative of using a simulation\n",
    "Think of social media platforms that you go on. What is an aspect of one of those platforms that uses an algorithm to improve their feature and usability?"
   ]
  },
  {
   "cell_type": "code",
   "execution_count": null,
   "metadata": {},
   "outputs": [],
   "source": [
    "# Problem 1\n",
    "numbers=[1,2,6,5]\n",
    "numbers.sort()\n",
    "print(numbers, \"here are the sorted numbers\")\n",
    "\n"
   ]
  },
  {
   "cell_type": "markdown",
   "metadata": {},
   "source": [
    "# Problem 2\n",
    "3 Benifits of using a simulation is\n",
    "    - Saves money\n",
    "    - Effecient\n",
    "    - Less Risky"
   ]
  },
  {
   "cell_type": "markdown",
   "metadata": {},
   "source": [
    "# Problem 3\n",
    "- Youtube uses an algorithim that recommends possible next videos you can watch and hooks you into the website. It improves the site overall, and helps people watch more entertainig content. "
   ]
  },
  {
   "cell_type": "markdown",
   "metadata": {},
   "source": [
    "# Simulations notes\n",
    "Simulations work towards simulating real-world applications for specific purposes and to simply real-world occurrneces and programs.\n",
    "They often are less risky as if you implement something that doesn't work and it fails then it will cause a huge loss of money. It is also effecient since it allos you to easily and quickly test your application and simulate it to see if its ready to publish. \n",
    "\n",
    "\n",
    "\n",
    "\n",
    "\n",
    "\n"
   ]
  }
 ],
 "metadata": {
  "language_info": {
   "name": "python"
  }
 },
 "nbformat": 4,
 "nbformat_minor": 2
}
