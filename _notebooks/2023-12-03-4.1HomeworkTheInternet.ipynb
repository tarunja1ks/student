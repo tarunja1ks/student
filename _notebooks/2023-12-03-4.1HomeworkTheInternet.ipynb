{
 "cells": [
  {
   "cell_type": "markdown",
   "metadata": {},
   "source": [
    "---\n",
    "toc: true\n",
    "comments: true\n",
    "layout: post\n",
    "title: 4.1 The Internet\n",
    "description: The Homework For this week\n",
    "courses: { compsci: {week: 10} }\n",
    "type: hacks\n",
    "---"
   ]
  },
  {
   "cell_type": "markdown",
   "metadata": {},
   "source": [
    "# Ip Adresses\n",
    "## 1\n",
    "    - 1.1.1.1.1(This is not valid as it is a set of 5 digits not a set of 4 digits, which doesn't follow the IP address protocol.)\n",
    "    - 23.23.23.23(This is  valid since  there are 4 numbers they are in the range 0-255)\n",
    "    - 134.492.100.0(This is not valid because the second number excedes 255, which is the bound)\n",
    "    - 255.256.55.255(This is again not valid becuz the second number also excedes 255)\n",
    "    - 2.93.255.1(This is valid as there are 4 numbers and they are 0-255)\n",
    "\n",
    "## 2\n",
    "    - Multicast because he is only 1 person setting it to a roup of divices on a specific ip range, which is on the network. UDP is also used in this. \n",
    "# Models\n",
    "## 1\n",
    "    - ASCII is the only one on the Presentation layer as it translates different characters into a universal language that computers use.\n",
    "    - The rest are apart of the Transport layer as they relate to the transfer of data between computers.\n",
    "    \n",
    "## 2\n",
    "    - It would be in the application layer because it is an application that alllows resource sharing through different computers over a network. This is the 7th layer too. \n",
    "\n",
    "# DNS\n",
    "    - The subdomains would be bob, is, the, and best. He should buy best domain from the DNS provider.\n",
    "\n",
    "# HTTP and HTTPS\n",
    "## 1\n",
    "    - HTTPS provides encryption with SSL/TLS or Secure Socket or Transport Layer Securty encryption, which makes the data more secure and HTTPS a better option. \n",
    "## 2\n",
    "    - We used HTTP.\n",
    "    - The benefits of this is it might be much more faster than HTTPS but the problem is it won't be as secure.\n",
    "\n",
    "# TCP and UDP\n",
    "## 1\n",
    "    - He should use UDP because it is a faster protocol but the cons of it is that it won't be as perfect or reliable as normal because it picks speed over the quality always to make it better for live streaming. A potential issue is some of th epixels not loading in properly.\n",
    "## 2\n",
    "    - It ensures all the packets arrive properly to give you the quality and accurate result. An example of it doing this is through the server-to-server communication. \n",
    "\n",
    "## 3\n",
    "    - It does SYN-ACk so it sends back acknowledgement of this to the server A to ensure Server A that everything is running smoothly.\n",
    "    - Another use of this is possibly a chat system, which is much less data than streaming but requires correct letters and accuracy. "
   ]
  }
 ],
 "metadata": {
  "language_info": {
   "name": "python"
  }
 },
 "nbformat": 4,
 "nbformat_minor": 2
}
