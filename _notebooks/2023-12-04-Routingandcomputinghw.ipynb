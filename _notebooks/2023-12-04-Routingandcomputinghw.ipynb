{
 "cells": [
  {
   "cell_type": "markdown",
   "metadata": {},
   "source": [
    "---\n",
    "toc: true\n",
    "comments: true\n",
    "layout: post\n",
    "title: RoutingandComputingHW\n",
    "description: The Homework For this week\n",
    "courses: { compsci: {week: 10} }\n",
    "type: hacks\n",
    "---"
   ]
  },
  {
   "cell_type": "markdown",
   "metadata": {},
   "source": [
    "## Homework\n",
    "1. Parallel computing is multiple computers or processors operating on a single task at once so the workload is divided between all of them.\n",
    "2. It will run in 623ms because the workload is divded between 3 of them so basically the time is the largest time it takes for one task.\n",
    "3. Parallel computing is more effecient because sequetional copmuting adds up all of the times while Parallel computing only takes the maximum time of a single task.\n",
    "4. It is called \"redundant\" if that is the case.\n",
    "5. It is fault tolerant because there is path redundancy so the paths can always acsess for each other somehow. "
   ]
  }
 ],
 "metadata": {
  "language_info": {
   "name": "python"
  }
 },
 "nbformat": 4,
 "nbformat_minor": 2
}
