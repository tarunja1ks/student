{
 "cells": [
  {
   "cell_type": "markdown",
   "metadata": {},
   "source": [
    "---\n",
    "toc: true\n",
    "comments: true\n",
    "layout: post\n",
    "title: College Board Review (60/67) Period 5\n",
    "description: Going over mistakes\n",
    "type: hacks\n",
    "courses: { compsci: {week: 12} }\n",
    "---"
   ]
  },
  {
   "cell_type": "markdown",
   "metadata": {},
   "source": [
    "# Notes\n",
    "During this class, I have learned a lot about different topics of the impact of computing include beneficial and harmful effects, digital divide, crowd-sourcing, and legal and ethical concerns. The team teaches on these topics have truly helped me understand the impact of computers and the importance of learning computer science. I often went back to the topic if I was sturggling on it's homework and reviewed over my notes of it. I would also watch the collegeboard or youtube videos when I was stuck with a paticular teamteach topic. \n",
    "\n",
    "The Internet: This was a huge teamteach topic for me as it allowed me to finally understand how the internet works and the different signals sent for the internet to work and power the entire world. I first learned about TC/IP protocols and then the difference between HTTP and HTTPS, which are both protocols that transfer information. I also learned about the OSI models which include multiple layers. I also then learned about TCP and UDP. IP addresses were a huge part of this lesson that included how IP addresses are generally formatted and the protocol for that. I also learned about the creative commons license, which protects the work by a person. \n",
    "\n",
    "\n",
    "Routing and Computing: This was my next topic and it included multiple computers communicating with each other and how computing can work much faster. I learned about distributed compmuting and parallel computing and in both multiple computers work together in different ways to solve a problem much much faster and this is a common solution used in the real world. I also then learned about Sequential Computing and its advantages and disavnatages and compared it to parallel computing. \n",
    "\n",
    "\n",
    "Digital Divide: The next topic I learned about was digital divide, which talks about the division between multiple different geolgical, socioecnomic groups and how location and other factors can effect coputing in that specific location. For example, in the mountains, it might be hard to have acsess to tools such as the internet while in an urban city or sillicon valley, acsess to the internet would be much easier. Socioecnomic factors include wealth as often times many are unfortunately not able to have acsess to devices such as computers and other smart devices. \n",
    "\n",
    "\n",
    "Computing Bias: This topic I did a teamteach on and I was pretty informed about that topic. In computing bias, it talks about different biasses from the creator or other data and how that can effect the bias of the application. For example, I leasrned about the different intentional and unintentional biasses that are often involved in applications. I spoke about an example of how if an application takes data using only from Texas and not the entire world it might have biasses that are related to the common values of people who live in Texas.\n",
    "\n",
    "Crowd Sourcing: This was the next topic I learned about in teamteaches and I learned about the process for different data collection in applications. I learned about open source development whic involves multiple people freely being able to work on a specific application. I also learned about Kaggle which is very useful for me since I like to do applications involving AI. \n",
    "\n",
    "Safe Computing: I learned about multiple intrnet saftey topics in this teamteach by Advik including PII, which is personally identifiqble information and how you shouldn't publicly post it onto the internet as it might lead to harsh consquences, which can ruin your life. I learned about what things I'm allowed to publish and things I shoudln't. I also learned about practices such as passwords that can help protect me against my information getting stolen. I also learned about Viruses and Malware. \n",
    "\n",
    "\n",
    "\n",
    "\n",
    "\n",
    "\n",
    "\n",
    "\n",
    "\n",
    "# Problems I got Wrong and Corrections\n",
    "\n",
    "In the college board, I was able to apply and test my knoelwedge to see trutly how well I understood the information. Unfoortunately, I wasn't able to get all questions correct so I went over them and fixed any wrong ones. \n",
    "\n",
    "Question 11: I wasn't able to get this question correct. I believe I udnerstand my mistake now and I believe it was a silly mistake as it was just simple math in converting the binary into decimal. I hopefully should read the qeustion more cartefully to avoid this problem or isssue.\n",
    "\n",
    "Quesiton 20: I originally was very confused with this but after asking for help by some freinds I found out that the reason the total data stored is only 10 GB is because on the right graph the values are multiplied by 10, which shows the total data average being around 10 gb. \n",
    "\n",
    "Question 23: I believe my mistake in here was another silly mistake as I read the inequality in the flowchart wrong leading me to a wrong answer. In the future, I should try to focus on slowing down and focusing and reading through the question so I avoid these. \n",
    "\n",
    "Question 25: In this question I accidentally put that the internet is controlled by a central device, which is obviously wrong and caused me to review th internet teamteach again ijn order to avoid mistakes relating to this topic. \n",
    "\n",
    "Question 52: I should have been more careful in this question as I didn't read the hours>=24 in the flow chart, which caused me to select ||| only which is the wrong answer. I see how now the simulation only lasts for 24 hours and how it isn't indefinite. \n",
    "\n",
    "Question 53: This quesiton was kind of confusing for me as I instnatly read the choice that said its an application transmitting and informaiton to all users but failed to notice the other choices and also see how this choice doesn't include a way for finding the lost pet and only informs with other people and doesnt collect data. \n",
    "\n",
    "Question 67: I believe for this quesiton I made another silly mistake simulating the list wrong and therefor obtaining a rong answer. I should probaly start doing these questions by doing it one time then doing it again so I avoid making any mistakes in these types of questions which are \"what does this program do\"."
   ]
  }
 ],
 "metadata": {
  "language_info": {
   "name": "python"
  }
 },
 "nbformat": 4,
 "nbformat_minor": 2
}
