{
 "cells": [
  {
   "cell_type": "markdown",
   "metadata": {},
   "source": [
    "---\n",
    "toc: false\n",
    "comments: true\n",
    "layout: post\n",
    "title: LegalEthicalConcernsHW\n",
    "description: hacker\n",
    "type: hacks\n",
    "courses: { compsci: {week: 12} }\n",
    "---"
   ]
  },
  {
   "cell_type": "markdown",
   "metadata": {},
   "source": [
    "1. Describe the key differences between the Creative Commons Zero v1.0 Universal, Open Source MIT License, and Open Source GPL License.\n",
    "\n",
    "Creative Commons Zero v1.0 Universal (CC0) waives all copyright, allowing unrestricted use. The Open Source MIT License is permissive, enabling use with minimal restrictions. Open Source GPL License mandates that derivative works must be open source.\n",
    "\n",
    "2. Give examples that illustrate how companies, such as Qualcomm and Red Hat, have leveraged Open Source licenses to establish unique business models.\n",
    "\n",
    "Qualcomm contributes to Android, earning revenue from hardware and proprietary technology. Red Hat supports Linux and generates income through services and subscription-based models.\n",
    "\n",
    "3. Why are businesses that heavily rely on Open Source software still need to generate income and how they manage this within the constraints of Open Source licenses.\n",
    "\n",
    "Companies relying on open source generate income through services and support, offering customization. Dual licensing strategies provide both open source and commercial options. Some companies sell hardware bundled with open source software, while community engagement leads to donations and sponsorships.\n",
    "\n",
    "# <span style=\"color:cadetblue\">Extra Credit</span>\n",
    "\n",
    "Explain the significance of choosing an appropriate license for personal and team GitHub repositories, especially for the CPT project. How does this relate to the broader themes of legal and ethical concerns in computing?\n",
    "\n",
    "Choosing an appropriate license for GitHub repositories is crucial as it clarifies code usage and helps avoid legal complications. This aligns with broader legal and ethical concerns, ensuring compliance and promoting responsible use. In the context of the CPT project, selecting the right license fosters collaboration and sets expectations for contributors. These decisions reflect the ethical responsibility and transparency essential in computing projects."
   ]
  }
 ],
 "metadata": {
  "language_info": {
   "name": "python"
  }
 },
 "nbformat": 4,
 "nbformat_minor": 2
}
