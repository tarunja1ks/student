{
 "cells": [
  {
   "cell_type": "markdown",
   "metadata": {},
   "source": [
    "---\n",
    "toc: true\n",
    "comments: true\n",
    "layout: post\n",
    "title: Notes for Teamteaches\n",
    "description: Info I learned\n",
    "type: tangibles\n",
    "courses: { compsci: {week: 12} }\n",
    "---"
   ]
  },
  {
   "cell_type": "markdown",
   "metadata": {},
   "source": [
    "# Notes\n",
    "During this class, I have learned a lot about different topics of the impact of computing include beneficial and harmful effects, digital divide, crowd-sourcing, and legal and ethical concerns. The team teaches on these topics have truly helped me understand the impact of computers and the importance of learning computer science. I often went back to the topic if I was sturggling on it's homework and reviewed over my notes of it. I would also watch the collegeboard or youtube videos when I was stuck with a paticular teamteach topic. \n",
    "\n",
    "The Internet: This was a huge teamteach topic for me as it allowed me to finally understand how the internet works and the different signals sent for the internet to work and power the entire world. I first learned about TC/IP protocols and then the difference between HTTP and HTTPS, which are both protocols that transfer information. I also learned about the OSI models which include multiple layers. I also then learned about TCP and UDP. IP addresses were a huge part of this lesson that included how IP addresses are generally formatted and the protocol for that. I also learned about the creative commons license, which protects the work by a person. \n",
    "\n",
    "\n",
    "Routing and Computing: This was my next topic and it included multiple computers communicating with each other and how computing can work much faster. I learned about distributed compmuting and parallel computing and in both multiple computers work together in different ways to solve a problem much much faster and this is a common solution used in the real world. I also then learned about Sequential Computing and its advantages and disavnatages and compared it to parallel computing. \n",
    "\n",
    "\n",
    "Digital Divide: The next topic I learned about was digital divide, which talks about the division between multiple different geolgical, socioecnomic groups and how location and other factors can effect coputing in that specific location. For example, in the mountains, it might be hard to have acsess to tools such as the internet while in an urban city or sillicon valley, acsess to the internet would be much easier. Socioecnomic factors include wealth as often times many are unfortunately not able to have acsess to devices such as computers and other smart devices. \n",
    "\n",
    "\n",
    "Computing Bias: This topic I did a teamteach on and I was pretty informed about that topic. In computing bias, it talks about different biasses from the creator or other data and how that can effect the bias of the application. For example, I leasrned about the different intentional and unintentional biasses that are often involved in applications. I spoke about an example of how if an application takes data using only from Texas and not the entire world it might have biasses that are related to the common values of people who live in Texas.\n",
    "\n",
    "Crowd Sourcing: This was the next topic I learned about in teamteaches and I learned about the process for different data collection in applications. I learned about open source development whic involves multiple people freely being able to work on a specific application. I also learned about Kaggle which is very useful for me since I like to do applications involving AI. \n",
    "\n",
    "Safe Computing: I learned about multiple intrnet saftey topics in this teamteach by Advik including PII, which is personally identifiqble information and how you shouldn't publicly post it onto the internet as it might lead to harsh consquences, which can ruin your life. I learned about what things I'm allowed to publish and things I shoudln't. I also learned about practices such as passwords that can help protect me against my information getting stolen. I also learned about Viruses and Malware. \n",
    "\n",
    "\n"
   ]
  }
 ],
 "metadata": {
  "language_info": {
   "name": "python"
  }
 },
 "nbformat": 4,
 "nbformat_minor": 2
}
