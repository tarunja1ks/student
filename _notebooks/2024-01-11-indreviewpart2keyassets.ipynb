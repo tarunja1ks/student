{
 "cells": [
  {
   "cell_type": "markdown",
   "metadata": {},
   "source": [
    "---\n",
    "toc: true\n",
    "comments: true\n",
    "layout: post\n",
    "title: Individual Review 2\n",
    "description: Info I learned\n",
    "type: tangibles\n",
    "courses: { compsci: {week: 12} }\n",
    "---"
   ]
  },
  {
   "cell_type": "markdown",
   "metadata": {},
   "source": [
    "# College Board Notes\n",
    "During this class, I have learned a lot about different topics of the impact of computing include beneficial and harmful effects, digital divide, crowd-sourcing, and legal and ethical concerns. The team teaches on these topics have truly helped me understand the impact of computers and the importance of learning computer science. I often went back to the topic if I was sturggling on it's homework and reviewed over my notes of it. I would also watch the collegeboard or youtube videos when I was stuck with a paticular teamteach topic. \n",
    "\n",
    "The Internet: This was a huge teamteach topic for me as it allowed me to finally understand how the internet works and the different signals sent for the internet to work and power the entire world. I first learned about TC/IP protocols and then the difference between HTTP and HTTPS, which are both protocols that transfer information. I also learned about the OSI models which include multiple layers. I also then learned about TCP and UDP. IP addresses were a huge part of this lesson that included how IP addresses are generally formatted and the protocol for that. I also learned about the creative commons license, which protects the work by a person. \n",
    "\n",
    "\n",
    "Routing and Computing: This was my next topic and it included multiple computers communicating with each other and how computing can work much faster. I learned about distributed compmuting and parallel computing and in both multiple computers work together in different ways to solve a problem much much faster and this is a common solution used in the real world. I also then learned about Sequential Computing and its advantages and disavnatages and compared it to parallel computing. \n",
    "\n",
    "\n",
    "Digital Divide: The next topic I learned about was digital divide, which talks about the division between multiple different geolgical, socioecnomic groups and how location and other factors can effect coputing in that specific location. For example, in the mountains, it might be hard to have acsess to tools such as the internet while in an urban city or sillicon valley, acsess to the internet would be much easier. Socioecnomic factors include wealth as often times many are unfortunately not able to have acsess to devices such as computers and other smart devices. \n",
    "\n",
    "\n",
    "Computing Bias: This topic I did a teamteach on and I was pretty informed about that topic. In computing bias, it talks about different biasses from the creator or other data and how that can effect the bias of the application. For example, I leasrned about the different intentional and unintentional biasses that are often involved in applications. I spoke about an example of how if an application takes data using only from Texas and not the entire world it might have biasses that are related to the common values of people who live in Texas.\n",
    "\n",
    "Crowd Sourcing: This was the next topic I learned about in teamteaches and I learned about the process for different data collection in applications. I learned about open source development whic involves multiple people freely being able to work on a specific application. I also learned about Kaggle which is very useful for me since I like to do applications involving AI. \n",
    "\n",
    "Safe Computing: I learned about multiple intrnet saftey topics in this teamteach by Advik including PII, which is personally identifiqble information and how you shouldn't publicly post it onto the internet as it might lead to harsh consquences, which can ruin your life. I learned about what things I'm allowed to publish and things I shoudln't. I also learned about practices such as passwords that can help protect me against my information getting stolen. I also learned about Viruses and Malware. \n",
    "\n",
    "\n",
    "\n",
    "\n",
    "\n",
    "\n",
    "\n",
    "\n",
    "\n",
    "# Problems I got Wrong and Corrections\n",
    "\n",
    "In the college board, I was able to apply and test my knoelwedge to see trutly how well I understood the information. Unfoortunately, I wasn't able to get all questions correct so I went over them and fixed any wrong ones. \n",
    "\n",
    "Question 11: I wasn't able to get this question correct. I believe I udnerstand my mistake now and I believe it was a silly mistake as it was just simple math in converting the binary into decimal. I hopefully should read the qeustion more cartefully to avoid this problem or isssue.\n",
    "\n",
    "Quesiton 20: I originally was very confused with this but after asking for help by some freinds I found out that the reason the total data stored is only 10 GB is because on the right graph the values are multiplied by 10, which shows the total data average being around 10 gb. \n",
    "\n",
    "Question 23: I believe my mistake in here was another silly mistake as I read the inequality in the flowchart wrong leading me to a wrong answer. In the future, I should try to focus on slowing down and focusing and reading through the question so I avoid these. \n",
    "\n",
    "Question 25: In this question I accidentally put that the internet is controlled by a central device, which is obviously wrong and caused me to review th internet teamteach again ijn order to avoid mistakes relating to this topic. \n",
    "\n",
    "Question 52: I should have been more careful in this question as I didn't read the hours>=24 in the flow chart, which caused me to select ||| only which is the wrong answer. I see how now the simulation only lasts for 24 hours and how it isn't indefinite. \n",
    "\n",
    "Question 53: This quesiton was kind of confusing for me as I instnatly read the choice that said its an application transmitting and informaiton to all users but failed to notice the other choices and also see how this choice doesn't include a way for finding the lost pet and only informs with other people and doesnt collect data. \n",
    "\n",
    "Question 67: I believe for this quesiton I made another silly mistake simulating the list wrong and therefor obtaining a rong answer. I should probaly start doing these questions by doing it one time then doing it again so I avoid making any mistakes in these types of questions which are \"what does this program do\"."
   ]
  },
  {
   "cell_type": "markdown",
   "metadata": {},
   "source": [
    "# Tri 1\n",
    "### First Few Weeks Projects \n",
    "- Weather Data Project\n",
    "    - Previously I had little experience with frontend before the class so I was able to figure out javascript and learn how to request to APIS and return data so in here I request from a weather API and used new learned knowlge of button and textboxes to create a simple UI that allows users to request weather data\n",
    "    - [Project Link](https://tarunja1ks.github.io/student//5.a/c4.1/2023/09/03/Weatherinfo_IPYNB_2_.html)\n",
    "    - [Github Link](https://github.com/tarunja1ks/student/commit/5c46a10d33c7781d3fb72d9f9d35e05ddf30a9da)\n",
    "- Stock Data API Project\n",
    "    - I continued working with APIS creating a Stock Data API that is able to return information about stocks and this helped solidy my frontend skills and also javascript skills\n",
    "    - [Project Link](https://tarunja1ks.github.io/student//5.a/c4.1/2023/09/06/stockmarket_IPYNB_2_.html)\n",
    "    - [Github Link](https://github.com/tarunja1ks/student/commit/597d5397dd714f53a5f902a4940ab7d349ad8183)\n",
    "- Email Classifier\n",
    "    - I revisited my backend skills working in python and did a fun but common data science project that helped me get use to working on Artificial Intelligence and this project classified Spam emails or not spam emails so it was an Ai email filter\n",
    "    - [Project Link](https://tarunja1ks.github.io/student//5.a/c4.1/2023/09/04/emailclassifier_IPYNB_2_.html)\n",
    "    - [Github Link](https://github.com/tarunja1ks/student/commit/a62c5f98e0a3c784a765a9813d811d60cb717cf8)\n",
    "- Notepad\n",
    "    - I went back to frontend skills and did a bit more advanced stuff although it wasn't an advanced UI and used Javascript to create a notepad that stored information through the browser so even if you deleted the tab it would save\n",
    "    - [Project Link](https://tarunja1ks.github.io/student//2022/09/27/Messageboard_IPYNB_2_.html)\n",
    "    - [Github Link](https://github.com/tarunja1ks/student/commit/8bdca904725eec3365f9ffdde88b86f294a2e6a8)\n",
    "- Passion Project\n",
    "    - My Tri 1 Passion Project was on Encryption and Decryption and Ciphers mainly so in the project and the goal of it was to make public encryption and decryption so people are able to secure their data properly\n",
    "    - [I worked Heavily on the Backend](https://github.com/monke7769/passion-backend/commits/main/?author=tarunja1ks)\n",
    "    - [I also worked a lot on the frontend](https://github.com/monke7769/passion/commits/main/?author=tarunja1ks)\n",
    "     - [Here is some key commits for the passion project](https://tarunja1ks.github.io/student//2023/11/05/keycommits_IPYNB_2_.html)\n",
    "    - I was the backend engineer or coder in this project and focused on making AI decryption possible. I was able to make 2 AI models that succesfully decrypted encrypted text although not fully to an industry level but a basic working level. I also made scripts for this that generated data to train the AI. I also worked on the frontend a little bit, helping with the glowing effects to make the website less plain and also linking the flask endpoints into the frontend. I also made some of the textboxes that were important for the user to enter the information and made some of the buttons too which got me frontend experience. \n",
    "\n",
    "# Tri 2\n",
    "- Binary Wamup Project\n",
    "    - This project focused on binary and in this my group and I were able to create a page that delve deeper into encryption and decryption but still related to binary\n",
    "    - I made a backend for this project(and worked on the frontend as it is still a frontend project). In the frontend, I used javascript to make a feature that encrypted text first convering to ascii then rotating the digits so the encryption is mixed up. I also worked a little on some of the glows and UI features. In the backend, I had the AI which returned whether a decrypted string was english or not so I could tell if it is a correct decryption. In the frontend, I had javascript function which went through every bit rotation and decrypted and then checked if it was english using the backend to succesfully decrypt the text encrypted using the binary rotation cipher. \n",
    "    - [Github Frontend Link](https://github.com/tarunja1ks/PAPERPENOFFICIAL/commits/main/?author=tarunja1ks)\n",
    "    - [Github Backend Link](https://github.com/tarunja1ks/BinaryWarmUpBackend/commit/38f801c8088784ddf1598a5f25ad6b0199ac4d21)\n",
    "\n",
    "\n",
    "# Plans for the CPT project\n",
    "- In this project I plan to help out with the backend of my project\n",
    "- Here is some background informatyion of my project, it is a website that allows users to create button designs and uses a database to store the button designs. I plan to work heavliy on the database and if time permits also create a feature that takes a picture of a button wireframe and turn it into the actual code for the button. \n",
    "- [Github link to ideation commits](https://github.com/iwu78/CPT/commits/main/?author=tarunja1ks)\n",
    "\n",
    "    \n",
    "    "
   ]
  },
  {
   "cell_type": "markdown",
   "metadata": {},
   "source": [
    "# TeamTeach\n",
    "https://github.com/nighthawkcoders/teacher_portfolio/issues/94#issuecomment-1883963050"
   ]
  }
 ],
 "metadata": {
  "language_info": {
   "name": "python"
  }
 },
 "nbformat": 4,
 "nbformat_minor": 2
}
