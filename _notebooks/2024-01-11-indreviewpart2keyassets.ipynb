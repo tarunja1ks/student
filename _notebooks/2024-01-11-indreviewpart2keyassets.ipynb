{
 "cells": [
  {
   "cell_type": "markdown",
   "metadata": {},
   "source": [
    "---\n",
    "toc: true\n",
    "comments: true\n",
    "layout: post\n",
    "title: Individual Review 2\n",
    "description: Info I learned\n",
    "type: tangibles\n",
    "courses: { compsci: {week: 12} }\n",
    "---"
   ]
  },
  {
   "cell_type": "markdown",
   "metadata": {},
   "source": [
    "# Tri 1\n",
    "### First Few Weeks Projects \n",
    "- Weather Data Project\n",
    "    - Previously I had little experience with frontend before the class so I was able to figure out javascript and learn how to request to APIS and return data so in here I request from a weather API and used new learned knowlge of button and textboxes to create a simple UI that allows users to request weather data\n",
    "    - [Project Link](https://tarunja1ks.github.io/student//5.a/c4.1/2023/09/03/Weatherinfo_IPYNB_2_.html)\n",
    "    - [Github Link](https://github.com/tarunja1ks/student/commit/5c46a10d33c7781d3fb72d9f9d35e05ddf30a9da)\n",
    "- Stock Data API Project\n",
    "    - I continued working with APIS creating a Stock Data API that is able to return information about stocks and this helped solidy my frontend skills and also javascript skills\n",
    "    - [Project Link](https://tarunja1ks.github.io/student//5.a/c4.1/2023/09/06/stockmarket_IPYNB_2_.html)\n",
    "    - [Github Link](https://github.com/tarunja1ks/student/commit/597d5397dd714f53a5f902a4940ab7d349ad8183)\n",
    "- Email Classifier\n",
    "    - I revisited my backend skills working in python and did a fun but common data science project that helped me get use to working on Artificial Intelligence and this project classified Spam emails or not spam emails so it was an Ai email filter\n",
    "    - [Project Link](https://tarunja1ks.github.io/student//5.a/c4.1/2023/09/04/emailclassifier_IPYNB_2_.html)\n",
    "    - [Github Link](https://github.com/tarunja1ks/student/commit/a62c5f98e0a3c784a765a9813d811d60cb717cf8)\n",
    "- Notepad\n",
    "    - I went back to frontend skills and did a bit more advanced stuff although it wasn't an advanced UI and used Javascript to create a notepad that stored information through the browser so even if you deleted the tab it would save\n",
    "    - [Project Link](https://tarunja1ks.github.io/student//2022/09/27/Messageboard_IPYNB_2_.html)\n",
    "    - [Github Link](https://github.com/tarunja1ks/student/commit/8bdca904725eec3365f9ffdde88b86f294a2e6a8)\n",
    "- Passion Project\n",
    "    - My Tri 1 Passion Project was on Encryption and Decryption and Ciphers mainly so in the project and the goal of it was to make public encryption and decryption so people are able to secure their data properly\n",
    "    - [I worked Heavily on the Backend](https://github.com/monke7769/passion-backend/commits/main/?author=tarunja1ks)\n",
    "    - [I also worked a lot on the frontend](https://github.com/monke7769/passion/commits/main/?author=tarunja1ks)\n",
    "     - [Here is some key commits for the passion project](https://tarunja1ks.github.io/student//2023/11/05/keycommits_IPYNB_2_.html)\n",
    "    - I was the backend engineer or coder in this project and focused on making AI decryption possible. I was able to make 2 AI models that succesfully decrypted encrypted text although not fully to an industry level but a basic working level. I also made scripts for this that generated data to train the AI. I also worked on the frontend a little bit, helping with the glowing effects to make the website less plain and also linking the flask endpoints into the frontend. I also made some of the textboxes that were important for the user to enter the information and made some of the buttons too which got me frontend experience. \n",
    "\n",
    "# Tri 2\n",
    "- Binary Wamup Project\n",
    "    - This project focused on binary and in this my group and I were able to create a page that delve deeper into encryption and decryption but still related to binary\n",
    "    - I made a backend for this project(and worked on the frontend as it is still a frontend project). In the frontend, I used javascript to make a feature that encrypted text first convering to ascii then rotating the digits so the encryption is mixed up. I also worked a little on some of the glows and UI features. In the backend, I had the AI which returned whether a decrypted string was english or not so I could tell if it is a correct decryption. In the frontend, I had javascript function which went through every bit rotation and decrypted and then checked if it was english using the backend to succesfully decrypt the text encrypted using the binary rotation cipher. \n",
    "    - [Github Frontend Link](https://github.com/tarunja1ks/PAPERPENOFFICIAL/commits/main/?author=tarunja1ks)\n",
    "    - [Github Backend Link](https://github.com/tarunja1ks/BinaryWarmUpBackend/commit/38f801c8088784ddf1598a5f25ad6b0199ac4d21)\n",
    "\n",
    "\n",
    "# Plans for the CPT project\n",
    "- In this project I plan to help out with the backend of my project\n",
    "- Here is some background informatyion of my project, it is a website that allows users to create button designs and uses a database to store the button designs. I plan to work heavliy on the database and if time permits also create a feature that takes a picture of a button wireframe and turn it into the actual code for the button. \n",
    "- [Github link to ideation commits](https://github.com/iwu78/CPT/commits/main/?author=tarunja1ks)\n",
    "\n",
    "    \n",
    "    "
   ]
  }
 ],
 "metadata": {
  "language_info": {
   "name": "python"
  }
 },
 "nbformat": 4,
 "nbformat_minor": 2
}
