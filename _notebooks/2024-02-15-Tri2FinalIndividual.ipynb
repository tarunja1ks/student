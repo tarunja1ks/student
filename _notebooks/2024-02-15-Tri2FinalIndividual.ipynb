{
 "cells": [
  {
   "cell_type": "markdown",
   "metadata": {},
   "source": [
    "---\n",
    "toc: True\n",
    "comments: True\n",
    "layout: post\n",
    "title: Tri2 Final Individual Review\n",
    "description: Review of CPT\n",
    "type: tangibles\n",
    "courses: {'compsci': {'week': 12}}\n",
    "---"
   ]
  },
  {
   "cell_type": "markdown",
   "metadata": {},
   "source": [
    "# N@TM\n",
    "\n",
    "My team had worked extensively over the past trimester on our CPT project, which was on custom button creation. Previously, we have identified a problem with the amount of time it takes to make a button yourself and the problem with many people not knowing customization featueres of buttons and how to do it in code. "
   ]
  },
  {
   "cell_type": "markdown",
   "metadata": {},
   "source": [
    "# Features I worked on\n",
    "    - Login/Signup\n",
    "    - Profile Updates(Changing profile picture and also encoding picture)\n",
    "    - Backend of the Searching Feature Returning the Designs\n",
    "\n",
    "\n",
    "    "
   ]
  },
  {
   "cell_type": "markdown",
   "metadata": {},
   "source": [
    "\n",
    "\n",
    "\n",
    "\n",
    "\n",
    "\n",
    "\n",
    "# Connection to CPT Requirements\n",
    "## Requirements\n",
    "\n",
    "\n",
    "\n",
    "\n",
    "\n",
    "\n",
    "\n",
    "\n",
    "\n",
    "1. Instructions for input from one of the following: the user, a device, an online datas stream, a file.\n",
    "\n",
    "    This was accomplished in the project with the profile picture feature where we can get the profile picture from the backend and we can also update it on a computer.\n",
    "\n",
    "2.  Use of at least one list (or other collection type) to represent a collectino of data that is stored and used to manage program complexity and help fulfill the users purpose.\n",
    "\n",
    "    I stored information about the user in a database including the profile picture encoded into a base64 string.\n",
    "    ![](../../../images/Question2CPT.png)\n",
    "\n",
    "3. An algorithm that includes sequencing, selection, and iteration that is in the body of the selected procedure\n",
    "\n",
    "    This is accomplished through the search functions in the backend, which iterates through all of the public stored designs and implements selection only picking out public designs.\n",
    "    ![](../../../images/Q3CPT.png).\n",
    "\n",
    "    We can also see this with the profile picture functino where we return the picture of the current user through selection.\n",
    "    ![](../../../images/Q3.2CPT.png).\n",
    "\n",
    "\n",
    "4. Calls to your student-developed prodcedure\n",
    "\n",
    "    This is accomplished to implemented frontend api calls for the obtaining user profile picture and also for updating or adding it. \n",
    "     ![](../../../images/Q4CPT.png).\n",
    "\n",
    "5. Instructions for output (tactile, audible, visual, or ) based on input and program functionality\n",
    "\n",
    "    There is a visual with the image being outputted shwoing what your profile picture is and what image it is stored as in the database. \n",
    "    ![](../../../images/Q5CPT.png)."
   ]
  }
 ],
 "metadata": {
  "language_info": {
   "name": "python"
  }
 },
 "nbformat": 4,
 "nbformat_minor": 2
}
