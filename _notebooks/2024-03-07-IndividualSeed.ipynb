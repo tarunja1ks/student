{
 "cells": [
  {
   "cell_type": "markdown",
   "metadata": {},
   "source": [
    "---\n",
    "toc: True\n",
    "comments: True\n",
    "layout: post\n",
    "title: Tri3 Seed Individual\n",
    "description: Review of CPT\n",
    "type: tangibles\n",
    "courses: {'compsci': {'week': 12}}\n",
    "---"
   ]
  },
  {
   "cell_type": "markdown",
   "metadata": {},
   "source": [
    "## CPT matching to AP requirements and CPT key commits\n",
    "- [Login Stuff Frontend](https://tarunja1ks.github.io/student//2024/02/25/Tri2FinalIndividual_IPYNB_2_.html)\n",
    "- [College Board Notes](https://tarunja1ks.github.io/student/2024/01/11/indreviewpart2keyassets_IPYNB_2_.html)\n",
    "\n",
    "I also got a 94.6 last Tri qualifying me for the 100 percent seed\n"
   ]
  }
 ],
 "metadata": {
  "language_info": {
   "name": "python"
  }
 },
 "nbformat": 4,
 "nbformat_minor": 2
}
