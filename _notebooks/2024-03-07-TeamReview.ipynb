{
 "cells": [
  {
   "cell_type": "markdown",
   "metadata": {},
   "source": [
    "---\n",
    "toc: True\n",
    "comments: True\n",
    "layout: post\n",
    "title: Tri3 Seed Team\n",
    "description: Review of CPT\n",
    "type: tangibles\n",
    "courses: {'compsci': {'week': 12}}\n",
    "---"
   ]
  },
  {
   "cell_type": "markdown",
   "metadata": {},
   "source": [
    "## My Team\n",
    "\n",
    "My team consists of 3 members including me(Tarun Jaikumar), Ryan Liao, and Aniket. \n",
    "\n",
    "We plan to work hard over this trimester focusing on the AP exam yet also exploring much deeper into Machine Learning and the Titanic Dataset. \n",
    "\n",
    "\n",
    "## First Week Plan\n",
    "- In the Machine Learning Titanic Dataset, we first wanted to integrate it into our own computers and project and test it out\n",
    "- After integrating, we would like to make a frontend or an easy visual that woudl allow a user to easily plug in any Characteristic that could be used for predictions\n",
    "\n",
    "## Second Week Plan\n",
    "- To improve the project or make it more unique to us, we would then like to switch the type of model used to make it more accurate and fit it better as Linear Regression Line is often inaccurate and is not the best model for some of these datasets\n",
    "\n",
    "## Third week Plan\n",
    "- We would then also like to make it such that a user can type in any number of paramters(meaning they can skip any things they would not like to enter) and it would still be able to return a value "
   ]
  }
 ],
 "metadata": {
  "language_info": {
   "name": "python"
  }
 },
 "nbformat": 4,
 "nbformat_minor": 2
}
