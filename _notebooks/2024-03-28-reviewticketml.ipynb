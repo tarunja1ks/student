{
 "cells": [
  {
   "cell_type": "markdown",
   "metadata": {},
   "source": [
    "---\n",
    "comments: true\n",
    "layout: post\n",
    "title: FRONTEND REVIEW TICKET Blog ML project\n",
    "description: Corrections\n",
    "type: collab\n",
    "courses: { csp: {week: 12} }\n",
    "---"
   ]
  },
  {
   "cell_type": "markdown",
   "metadata": {},
   "source": [
    "\n",
    "# Review (2.7/3)\n",
    "## Making Better\n",
    "- Feedback work more with the commits and commit before doing testing to show the iterative process more in my commits\n",
    "- Make a bigger dataset that has at least 1000 rows of data \n",
    "## Good\n",
    "- preloading and saving to the pickle file seeed to be very effecient especially if we want to retrain with a much larder dataset where training would take an extremely long amount of time\n",
    "## Mr. Mortensen Project\n",
    "- The quality of our project and code is very good. However, the volume of commits is not as high, showing a little less collaboration than is deemed exemplary. Therefore, we could have done a better job with making little, incremental changes rather than committing large changes all at once.\n",
    "## Screenshots of Code\n",
    "![](../../../images/Frontend.png)\n",
    "![](../../../images/MLPROJECT.png)\n"
   ]
  }
 ],
 "metadata": {
  "language_info": {
   "name": "python"
  }
 },
 "nbformat": 4,
 "nbformat_minor": 2
}
